{
 "cells": [
  {
   "cell_type": "markdown",
   "metadata": {},
   "source": [
    "# Tunneling through a barrier"
   ]
  },
  {
   "cell_type": "markdown",
   "metadata": {},
   "source": [
    "In Lecture 10, we developed some solutions for the stationary Schrödinger equation. We solved the harmonic oscillator or the particle in a box model. All of this did not give any dynamics of particles in potentials but rather a static picture. Today we would like to consider the time dependent Schrödinger equations which yields the dynamics of the system. We will develop a solution based on Fourier transforms, as we still have to practice that a bit."
   ]
  },
  {
   "cell_type": "code",
   "execution_count": 1052,
   "metadata": {},
   "outputs": [],
   "source": [
    "import numpy as np\n",
    "import matplotlib.pyplot as plt\n",
    "from scipy.constants import *\n",
    "from scipy.sparse import diags\n",
    "from scipy.fftpack import fft,ifft\n",
    "from time import sleep,time\n",
    "from scipy import sparse as sparse\n",
    "from scipy.sparse import linalg as ln\n",
    "\n",
    "from ipycanvas import MultiCanvas, hold_canvas,Canvas\n",
    "\n",
    "\n",
    "%matplotlib inline\n",
    "%config InlineBackend.figure_format = 'retina'"
   ]
  },
  {
   "cell_type": "markdown",
   "metadata": {},
   "source": [
    "## Schrödinger equation for the momentum"
   ]
  },
  {
   "cell_type": "markdown",
   "metadata": {},
   "source": [
    "This time we want to solve the Schrödinger equation for some special situation i.e. a wave packet that travels towards a barrier.\n",
    "We have written the Schrödinger equation before, but shortly need that again\n",
    "\n",
    "\\begin{equation}\n",
    "i\\hbar\\frac{\\partial \\Psi(x,t)}{\\partial t} = \\left ( \\frac{-\\hbar^2 }{2m}\\frac{\\partial^2}{\\partial x^2}+V(x,t) \\right ) \\Psi(x,t)\n",
    "\\end{equation}\n",
    "\n",
    "While this is the Schrödinger equation in position space, we may also obtain a Schrödinger equation for the momentum (k-) space. To do so, we take the fourier transform of the wavefunction \n",
    "\n",
    "\\begin{equation}\n",
    "\\tilde{\\Psi}(k,t)=\\frac{1}{\\sqrt{2\\pi}}\\int_{-\\infty}^{\\infty} \\Psi(x,t)e^{-ikx} dx\n",
    "\\end{equation}\n",
    "\n",
    "which yields the wavefunction in momentum space. "
   ]
  },
  {
   "cell_type": "markdown",
   "metadata": {},
   "source": [
    "We can also do that backwards to express the relation between the position space and the momentum space wavefunction.\n",
    "\n",
    "\\begin{equation}\n",
    "\\Psi(x,t)=\\frac{1}{\\sqrt{2\\pi}} \\int_{-\\infty}^{\\infty}\\tilde{\\Psi}(k,t)e^{ikx}dk\n",
    "\\end{equation}\n",
    "\n",
    "If we insert the latter equation into the Schrödinger equation we onbtain \n",
    "\n",
    "\\begin{equation}\n",
    "i\\hbar \\frac{\\partial \\tilde{\\Psi}}{\\partial t}=\\frac{\\hbar^{2}k^{2}}{2m}\\tilde{\\Psi}+V\\left (i\\frac{\\partial }{\\partial k}\\right ) \\tilde{\\Psi}\n",
    "\\end{equation}\n",
    "\n",
    "which is exactly this Schrödinger equation in momentum space.\n",
    "\n"
   ]
  },
  {
   "cell_type": "markdown",
   "metadata": {},
   "source": [
    "## Cranck Nicolson Solution"
   ]
  },
  {
   "cell_type": "markdown",
   "metadata": {},
   "source": [
    "We will pursue two different numerical solutions. The first solution, will be equivalent to the solution of the diffusion equation we did in Lecture 7. Here we need to write our Hamilton operator as a matrix with the second derivative and the potential. Lets assume you know how to create this matrix also from the last lecture. \n",
    "\n",
    "Then we just need to get the time dependence, which we obtain from finite differences as\n",
    "\n",
    "$$\n",
    "\\frac{\\Psi(x,t+dt)-\\Psi(x,t)}{dt}\\approx -\\frac{i}{\\hbar} H\\Psi(x,t)\n",
    "$$\n",
    "\n",
    "in the forward direction and and similarly\n",
    "\n",
    "$$\n",
    "\\frac{\\Psi(x,t+dt)-\\Psi(x,t)}{dt}\\approx -\\frac{i}{\\hbar}  H\\Psi(x,t+dt)\n",
    "$$\n",
    "\n",
    "in the backward direcction.\n",
    "\n"
   ]
  },
  {
   "cell_type": "markdown",
   "metadata": {},
   "source": [
    "Therefore \n",
    "\n",
    "$$\n",
    "i\\frac{\\Psi(x,t+dt)-\\Psi(x,t)}{dt}\\approx \\frac{1}{2i\\hbar } H\\Psi(x,t)+\\frac{1}{2i\\hbar} H\\Psi(x,t+dt)\n",
    "$$\n",
    "\n",
    "or\n",
    "\n",
    "$$\n",
    "\\left(1-\\frac{dt}{2i\\hbar} H\\right)\\Psi(x,t+dt)=\\left(1+\\frac{dt}{2i\\hbar} H\\right)\\Psi(x,t)\n",
    "$$\n",
    "\n",
    "and finally\n",
    "\n",
    "$$\n",
    "\\Psi(x,t+dt)=\\left(1-\\frac{dt}{2i\\hbar} H\\right)^{-1}\\left(1+\\frac{dt}{2i\\hbar} H\\right)\\Psi(x,t)\n",
    "$$\n",
    "\n",
    "Once we have calculated the Matrix of the hamiltonian and have provided an initial wavepacket, we can immediately propagate the initial wavepacket to later times. This seems easy with what we learned earlier."
   ]
  },
  {
   "cell_type": "markdown",
   "metadata": {},
   "source": [
    "### Setup Domain"
   ]
  },
  {
   "cell_type": "markdown",
   "metadata": {},
   "source": [
    "As usual we need to define a spatial domain and a timstep for the solution."
   ]
  },
  {
   "cell_type": "code",
   "execution_count": 1053,
   "metadata": {},
   "outputs": [],
   "source": [
    "N=500\n",
    "x, dx = np.linspace(-100, 100, N, retstep=True)\n",
    "\n",
    "dt=0.5"
   ]
  },
  {
   "cell_type": "markdown",
   "metadata": {},
   "source": [
    "### Initial Conditions"
   ]
  },
  {
   "cell_type": "markdown",
   "metadata": {},
   "source": [
    "Next we define the initial gaussian wavepacket with a certain momentum given by the wavenumber $k_{0}$."
   ]
  },
  {
   "cell_type": "code",
   "execution_count": 1054,
   "metadata": {},
   "outputs": [],
   "source": [
    "def gauss_x(x, sigma, x0, k0):\n",
    "    return (np.exp(-0.5 * ((x - x0)/ sigma) ** 2 + 1j * x * k0)/(sigma * np.sqrt(np.pi)))"
   ]
  },
  {
   "cell_type": "code",
   "execution_count": 1055,
   "metadata": {},
   "outputs": [],
   "source": [
    "k0=1.3\n",
    "x0=-50\n",
    "sigma0=5\n",
    "psi= gauss_x(x, sigma0, x0, k0)\n",
    "prob=np.abs(psi)**2\n",
    "dx=x[1]-x[0]\n",
    "psi=psi/np.sqrt(np.sum(prob)*dx)"
   ]
  },
  {
   "cell_type": "markdown",
   "metadata": {},
   "source": [
    "### Matrix Setup"
   ]
  },
  {
   "cell_type": "markdown",
   "metadata": {},
   "source": [
    "At first we define the potential energy landscape."
   ]
  },
  {
   "cell_type": "code",
   "execution_count": 1056,
   "metadata": {},
   "outputs": [],
   "source": [
    "barrier_width=5\n",
    "barrier_height=1.\n",
    "potential = np.array([barrier_height if 0.0 < x < barrier_width else 0.0 for x in x])"
   ]
  },
  {
   "cell_type": "markdown",
   "metadata": {},
   "source": [
    "Then the Hamitonion made of the second derivative and the potential energy landscape."
   ]
  },
  {
   "cell_type": "code",
   "execution_count": 1057,
   "metadata": {},
   "outputs": [],
   "source": [
    "h_diag = np.ones(n_points) / dx**2 + potential\n",
    "h_non_diag = np.ones(n_points - 1) * (-0.5 / dx**2)\n",
    "hamiltonian = sparse.diags([h_diag, h_non_diag, h_non_diag], [0, 1, -1])"
   ]
  },
  {
   "cell_type": "markdown",
   "metadata": {},
   "source": [
    "### Propagation Matrix"
   ]
  },
  {
   "cell_type": "markdown",
   "metadata": {},
   "source": [
    "With the help of the hamiltonian we now define the matrices we have to multiply to the current wavefunction to obtain the wavefunction at the next timestep. "
   ]
  },
  {
   "cell_type": "code",
   "execution_count": 1058,
   "metadata": {},
   "outputs": [],
   "source": [
    "implicit = (sparse.eye(n_points) - dt / 2.0j * hamiltonian).tocsc()\n",
    "explicit = (sparse.eye(n_points) + dt / 2.0j * hamiltonian).tocsc() \n",
    "evolution_matrix = ln.inv(implicit).dot(explicit).tocsr()"
   ]
  },
  {
   "cell_type": "markdown",
   "metadata": {},
   "source": [
    "### Animation setup"
   ]
  },
  {
   "cell_type": "markdown",
   "metadata": {},
   "source": [
    "With that, we are ready to show the simulation result in an animation"
   ]
  },
  {
   "cell_type": "code",
   "execution_count": 1059,
   "metadata": {},
   "outputs": [],
   "source": [
    "prob = abs(psi)**2\n",
    "fig, ax = plt.subplots(1,1,figsize=(10,4))\n",
    "plt.xlim(-100,100)\n",
    "plt.ylim(0,2)\n",
    "plt.xlabel('x-position')\n",
    "plt.ylabel(r'$|\\Psi(x,t)|^2$')\n",
    "plt.tight_layout()  \n",
    "plt.plot(x,potential,'k')\n",
    "#ax.plot(x,20*prob,'g')\n",
    "plt.draw()\n",
    "\n",
    "background = fig.canvas.copy_from_bbox(ax.bbox)\n",
    "points=ax.plot(x,20*prob,'g')[0]\n",
    "\n",
    "plt.close() "
   ]
  },
  {
   "cell_type": "markdown",
   "metadata": {},
   "source": [
    "### Animation"
   ]
  },
  {
   "cell_type": "code",
   "execution_count": 1060,
   "metadata": {},
   "outputs": [
    {
     "data": {
      "application/vnd.jupyter.widget-view+json": {
       "model_id": "da12917b6eb0424da8bdcc3a9e7333af",
       "version_major": 2,
       "version_minor": 0
      },
      "text/plain": [
       "Canvas(height=300, width=800)"
      ]
     },
     "metadata": {},
     "output_type": "display_data"
    }
   ],
   "source": [
    "canvas = Canvas(width=800, height=300,sync_image_data=False)\n",
    "display(canvas)"
   ]
  },
  {
   "cell_type": "markdown",
   "metadata": {},
   "source": [
    "For the animation, we just loop over 1000 steps, where we just calculate the product of the evolution matrix and the wavefunction. \n",
    "In each step, we also take care of normalizing the wavefunction again."
   ]
  },
  {
   "cell_type": "code",
   "execution_count": null,
   "metadata": {},
   "outputs": [],
   "source": [
    "for i in range(1000):\n",
    "    psi = evolution_matrix.dot(psi)\n",
    "    prob = abs(psi)**2\n",
    "\n",
    "    norm = sum(prob)\n",
    "    prob /= norm\n",
    "    psi /= norm**0.5\n",
    "    fig.canvas.restore_region(background)\n",
    "    ax.draw_artist(points)\n",
    "    points.set_data(x,20*prob)\n",
    "\n",
    "    fig.canvas.blit(ax.bbox)\n",
    "    X = np.array(fig.canvas.renderer.buffer_rgba())\n",
    "\n",
    "    with hold_canvas(canvas): \n",
    "        canvas.clear()\n",
    "        canvas.put_image_data(X)\n",
    "        sleep(0.02)"
   ]
  },
  {
   "cell_type": "markdown",
   "metadata": {},
   "source": [
    "<img src=\"cranck_nicolson_animation.mov\" width=\"600\">"
   ]
  },
  {
   "cell_type": "markdown",
   "metadata": {},
   "source": [
    "![](cranck_nicolson_animation.mov)"
   ]
  },
  {
   "cell_type": "markdown",
   "metadata": {},
   "source": [
    "## Split Step Method"
   ]
  },
  {
   "cell_type": "markdown",
   "metadata": {},
   "source": [
    "If we look at bit closer at the two Schrödinger equations in real and momentum space above, we recognize that there is some symmetry in the two Schrödinger equations, which we can use to calculate the time-dependence of the wave function. This type of method is called the split step method."
   ]
  },
  {
   "cell_type": "markdown",
   "metadata": {},
   "source": [
    "We may substitute in the right side of the position Schrödinger equation \n",
    "\n",
    "\\begin{equation}\n",
    "\\hat{D}=\\frac{-\\hbar^2 }{2m}\\frac{\\partial^2}{\\partial x^2}\n",
    "\\end{equation}\n",
    "\n",
    "and \n",
    "\n",
    "\\begin{equation}\n",
    "\\hat{N}=V(x,t) \n",
    "\\end{equation}\n",
    "\n",
    "such that \n",
    "\n",
    "$$\n",
    "i\\hbar\\frac{\\partial \\Psi(x,t)}{\\partial t} = [\\hat{D}+\\hat{N}]\\Psi\n",
    "$$\n",
    "\n",
    "with the solution \n",
    "\n",
    "$$\n",
    "\\Psi(x,t)=e^{-i(\\hat{D}+\\hat{N})t/\\hbar}\\Psi(x,0)\n",
    "$$\n"
   ]
  },
  {
   "cell_type": "markdown",
   "metadata": {},
   "source": [
    "If we only make a small timestep $dt$, we can write the latter equation also as\n",
    "\n",
    "$$\n",
    "\\Psi(x,t+dt)=e^{-i\\hat{D}dt/\\hbar}e^{-i\\hat{N}dt/\\hbar} \\Psi(x,t)\n",
    "$$\n",
    "\n",
    "\n",
    "We may now turn to momentum space by taking the Fourier transform $F$\n",
    "\n",
    "$$\n",
    "\\tilde{\\Psi}(k,t+dt)=F\\left [e^{-i\\hat{D}dt/\\hbar}e^{-i\\hat{N}dt/\\hbar}\\right ]\\tilde{\\Psi}(k,t)\n",
    "$$\n",
    "\n",
    "What we know now from the momentum Schrödinger equation is that the operator $\\hat{D}$ will just turn into a multiplication with $\\hbar k^2/2m$ in momentum space and therefore \n",
    "\n",
    "$$\n",
    "\\tilde{\\Psi}(k,t+dt)=e^{i\\frac{\\hbar k^2}{2m}dt}F\\left [e^{-i\\hat{N}dt/\\hbar}\\right ]\\tilde{\\Psi}(k,t)\n",
    "$$\n",
    "\n",
    "Thus if we just do the inverse Fourier transform of that, we obtain\n",
    "\n",
    "$$\n",
    "\\Psi(x,t+dt)=F^{-1}\\left [ e^{i\\frac{\\hbar k^2}{2m}dt} F\\left [e^{-i\\hat{N}dt/\\hbar}\\Psi(x,t) \\right ]  \\right]\n",
    "$$\n",
    "\n",
    "\n",
    "This is the receipe for the solution of the time dependent Schrödinger equation. We will do this simulation with the help of the FFT we considered already earlier."
   ]
  },
  {
   "cell_type": "markdown",
   "metadata": {},
   "source": [
    "### Setup Domain"
   ]
  },
  {
   "cell_type": "markdown",
   "metadata": {},
   "source": [
    "We first need to setup our domain together with the time resolution. "
   ]
  },
  {
   "cell_type": "code",
   "execution_count": null,
   "metadata": {},
   "outputs": [],
   "source": [
    "#some constants\n",
    "hbar=1\n",
    "m=1"
   ]
  },
  {
   "cell_type": "code",
   "execution_count": null,
   "metadata": {},
   "outputs": [],
   "source": [
    "## spatial domain\n",
    "N = 2 ** 11\n",
    "dx = 0.1\n",
    "x = dx * (np.arange(N) - 0.5 * N)"
   ]
  },
  {
   "cell_type": "code",
   "execution_count": null,
   "metadata": {},
   "outputs": [],
   "source": [
    "## timestep of our simulation\n",
    "dt = 0.005"
   ]
  },
  {
   "cell_type": "markdown",
   "metadata": {},
   "source": [
    "### Potential energy landscape"
   ]
  },
  {
   "cell_type": "markdown",
   "metadata": {},
   "source": [
    "We want to study the tunneling of a wavepacket through a barrier, so we need to define a potential energy landscape, which contains two extremely high barriers at the left and the right side and in the middle a smaller barrier through which we can tunnel."
   ]
  },
  {
   "cell_type": "code",
   "execution_count": null,
   "metadata": {},
   "outputs": [],
   "source": [
    "## potential barrier height\n",
    "V0 = 1\n",
    "\n",
    "## potential barrier width\n",
    "a=5\n",
    "\n",
    "# potential barrier \n",
    "V_x = np.array([V0 if 0.0 < x < a else 0.0 for x in x])\n",
    "V_x[np.abs(x) > 98] = 1e6"
   ]
  },
  {
   "cell_type": "code",
   "execution_count": null,
   "metadata": {},
   "outputs": [],
   "source": [
    "plt.figure(figsize=(10,4))\n",
    "plt.plot(x,V_x,'k')\n",
    "plt.ylim(0,2)\n",
    "plt.xlabel('x-position')\n",
    "plt.ylabel('$V(x)$')\n",
    "plt.tight_layout()\n",
    "plt.show()"
   ]
  },
  {
   "cell_type": "markdown",
   "metadata": {},
   "source": [
    "###  Initial wavepacket"
   ]
  },
  {
   "cell_type": "markdown",
   "metadata": {},
   "source": [
    "Our initial wavepacket will be a Gaussian wavepacket, which is centered at $x_0=-50$."
   ]
  },
  {
   "cell_type": "code",
   "execution_count": null,
   "metadata": {},
   "outputs": [],
   "source": [
    "k0=1.3\n",
    "x0=-50\n",
    "sigma0=5\n",
    "psi= gauss_x(x, sigma0, x0, k0)\n",
    "prob=np.abs(psi)**2\n",
    "dx=x[1]-x[0]\n",
    "psi=psi/np.sqrt(np.sum(prob)*dx)"
   ]
  },
  {
   "cell_type": "code",
   "execution_count": null,
   "metadata": {},
   "outputs": [],
   "source": [
    "plt.figure(figsize=(10,4))\n",
    "plt.plot(x,np.abs(psi_x0)**2)\n",
    "plt.xlabel('x-position')\n",
    "plt.ylabel('$|\\Psi(x)|^2$')\n",
    "plt.tight_layout()\n",
    "plt.show()"
   ]
  },
  {
   "cell_type": "markdown",
   "metadata": {},
   "source": [
    "### Fourier Transform Setup"
   ]
  },
  {
   "cell_type": "markdown",
   "metadata": {},
   "source": [
    "When doing the Fourier transform we switch between the spatial and the momentum domain. We will use for that purpose the Fast Fourier Transform Function as we did already earlier. As compared to what has been written in the equations above, that means we switch to a discrete space and miss some of the frequencies which would be contained in the analytical calculations above. To correct for the discrete sampling, we need to introduce a correction factor, which I leave to you for exploration.\n",
    "\n",
    "The wavefunction we have to use is \n",
    "\n",
    "$$\n",
    "\\Psi_{\\rm mod}=\\Psi(x_{n},t)\\frac{dx}{\\sqrt{2\\pi}}e^{-ik_{0}x}\n",
    "$$\n",
    "\n",
    "where $k_{0}=-\\pi/dx$, which is the Nyquist limit. Note that this $k_0$ is not related to the $k_0$ of the wavepacket above. Here we define the space for the Fourier transform."
   ]
  },
  {
   "cell_type": "code",
   "execution_count": null,
   "metadata": {},
   "outputs": [],
   "source": [
    "N=len(x)\n",
    "dx=x[1]-x[0]\n",
    "k0=-np.pi/dx\n",
    "dk = 2*np.pi / (N * dx)\n",
    "k = k0 + dk * np.arange(N)"
   ]
  },
  {
   "cell_type": "markdown",
   "metadata": {},
   "source": [
    "So the modified Gaussian wavepacket for the Fourier transform is"
   ]
  },
  {
   "cell_type": "code",
   "execution_count": null,
   "metadata": {},
   "outputs": [],
   "source": [
    "psi_modx=psi_x0*np.exp(-1j * k[0] * x)* dx / np.sqrt(2 * np.pi)"
   ]
  },
  {
   "cell_type": "markdown",
   "metadata": {},
   "source": [
    "### Phase Factor per Timestep"
   ]
  },
  {
   "cell_type": "markdown",
   "metadata": {},
   "source": [
    "According to our calculations we first have evolve the wavepacket with a phase factor containing $\\hat{N}$ which contains the potential and later with $\\hat{D}$. \n",
    "\n",
    "$$\n",
    "\\Psi(x,t+dt)=F^{-1}\\left [ e^{i\\frac{\\hbar k^2}{2m}dt} F\\left [e^{-iV(x)dt/\\hbar}\\Psi(x,t) \\right ]  \\right]\n",
    "$$\n",
    "\n",
    "\n",
    "Both are just phases factors, which stay the same for each timestep. We may thus calculate them one, and reuse them.\n"
   ]
  },
  {
   "cell_type": "code",
   "execution_count": null,
   "metadata": {},
   "outputs": [],
   "source": [
    "phase_x=np.exp(-1j*V_x*dt/hbar)\n",
    "phase_k=np.exp(-1j*hbar*k**2/m*dt)"
   ]
  },
  {
   "cell_type": "markdown",
   "metadata": {},
   "source": [
    "### Animation setup"
   ]
  },
  {
   "cell_type": "code",
   "execution_count": null,
   "metadata": {},
   "outputs": [],
   "source": [
    "fig, ax = plt.subplots(1,1,figsize=(10,4))\n",
    "plt.xlim(-100,100)\n",
    "plt.ylim(0,2)\n",
    "plt.xlabel('x-position')\n",
    "plt.ylabel(r'$|\\Psi(x,t)|^2$')\n",
    "plt.tight_layout()  \n",
    "plt.plot(x,V_x,'k')\n",
    "plt.draw()\n",
    "\n",
    "background = fig.canvas.copy_from_bbox(ax.bbox)\n",
    "points=ax.plot(x,np.abs(psi_modx)**2,'g')[0]\n",
    "\n",
    "plt.close() "
   ]
  },
  {
   "cell_type": "code",
   "execution_count": null,
   "metadata": {},
   "outputs": [],
   "source": [
    "## setup the canvas\n",
    "canvas = Canvas(width=800, height=300,sync_image_data=False)\n",
    "display(canvas)"
   ]
  },
  {
   "cell_type": "markdown",
   "metadata": {},
   "source": [
    "### Animation"
   ]
  },
  {
   "cell_type": "markdown",
   "metadata": {},
   "source": [
    "The animation runs in the same way as before. "
   ]
  },
  {
   "cell_type": "code",
   "execution_count": null,
   "metadata": {},
   "outputs": [],
   "source": [
    "for i in range(1000):\n",
    "    fig.canvas.restore_region(background)\n",
    "    ax.draw_artist(points)\n",
    "    for j in range(100):\n",
    "        tmp=ifft(phase_k*fft(psi_modx*phase_x))\n",
    "        psi_modx=tmp\n",
    "        prob = abs(psi_modx)**2\n",
    "\n",
    "        norm = sum(prob)\n",
    "        prob /= norm\n",
    "        psi_modx /= norm**0.5\n",
    "    points.set_data(x,20*prob)    \n",
    "    #points.set_data(x,1e5*np.abs(psi_modx)**2)\n",
    "\n",
    "    fig.canvas.blit(ax.bbox)\n",
    "    X = np.array(fig.canvas.renderer.buffer_rgba())\n",
    "\n",
    "    \n",
    "    with hold_canvas(canvas): \n",
    "        canvas.clear()\n",
    "        canvas.put_image_data(X)\n",
    "        sleep(0.01)"
   ]
  },
  {
   "cell_type": "markdown",
   "metadata": {},
   "source": [
    "<img src=\"split_step_animation.mov\" width=\"600\">"
   ]
  },
  {
   "cell_type": "markdown",
   "metadata": {},
   "source": [
    "![](split_step_animation.mov)"
   ]
  },
  {
   "cell_type": "markdown",
   "metadata": {},
   "source": [
    "## Where to go from here?"
   ]
  },
  {
   "cell_type": "markdown",
   "metadata": {},
   "source": [
    "We have developed two schemes of how to solve the Schrödinger equation for the tunneling case. You may wanto to explore the wavefunction of the particle in momentum space, i.e. its Fourier transform to the k-space. This gives an idea on how the momentum changes upon reflection and transmission. \n",
    "\n",
    "You can also have a look at the transmitted and reflected wave amplitudes as a function of the height an the width of the barrier.\n",
    "\n",
    "Finally, you may want to change the potential energy landscape."
   ]
  },
  {
   "cell_type": "code",
   "execution_count": null,
   "metadata": {},
   "outputs": [],
   "source": []
  }
 ],
 "metadata": {
  "kernelspec": {
   "display_name": "Python 3",
   "language": "python",
   "name": "python3"
  },
  "language_info": {
   "codemirror_mode": {
    "name": "ipython",
    "version": 3
   },
   "file_extension": ".py",
   "mimetype": "text/x-python",
   "name": "python",
   "nbconvert_exporter": "python",
   "pygments_lexer": "ipython3",
   "version": "3.7.6"
  },
  "toc-autonumbering": true,
  "toc-showcode": false,
  "toc-showmarkdowntxt": false,
  "widgets": {
   "application/vnd.jupyter.widget-state+json": {
    "state": {
     "016822ffdc28421384d1e5bad475e148": {
      "model_module": "ipycanvas",
      "model_module_version": "^0.4.3",
      "model_name": "CanvasModel",
      "state": {
       "_model_module_version": "^0.4.3",
       "_view_module_version": "^0.4.3",
       "height": 380,
       "layout": "IPY_MODEL_9d69b7a14b3843ff85094fd15e18e75a",
       "width": 800
      }
     },
     "0429f86e60d24cddb07f752c1d8ba4fa": {
      "model_module": "ipycanvas",
      "model_module_version": "^0.4.3",
      "model_name": "CanvasModel",
      "state": {
       "_model_module_version": "^0.4.3",
       "_view_module_version": "^0.4.3",
       "height": 380,
       "layout": "IPY_MODEL_3e6335dbb3a34b498f13138e45fdfe6e",
       "width": 800
      }
     },
     "046276ae8eba4ebbb7e4d5fb98425858": {
      "model_module": "@jupyter-widgets/base",
      "model_module_version": "1.2.0",
      "model_name": "LayoutModel",
      "state": {}
     },
     "053f3361a30a49b2961dc674141b2f3a": {
      "model_module": "@jupyter-widgets/base",
      "model_module_version": "1.2.0",
      "model_name": "LayoutModel",
      "state": {}
     },
     "07b77a477d514bc18b8cba53eb5ccfff": {
      "model_module": "ipycanvas",
      "model_module_version": "^0.4.3",
      "model_name": "CanvasModel",
      "state": {
       "_model_module_version": "^0.4.3",
       "_view_module_version": "^0.4.3",
       "height": 380,
       "layout": "IPY_MODEL_b85f2691dc504d9292b8e0d34c2abc19",
       "width": 800
      }
     },
     "07d0a2e050474196af92fa5cfa26e43d": {
      "model_module": "@jupyter-widgets/base",
      "model_module_version": "1.2.0",
      "model_name": "LayoutModel",
      "state": {}
     },
     "08f784b6af714ab5a39d9c2b2a11b9d5": {
      "model_module": "ipycanvas",
      "model_module_version": "^0.4.3",
      "model_name": "CanvasModel",
      "state": {
       "_model_module_version": "^0.4.3",
       "_view_module_version": "^0.4.3",
       "height": 380,
       "layout": "IPY_MODEL_546cc1f6f64c4c9d8ab283946e9ba509",
       "width": 800
      }
     },
     "09f865c8f19c4e16b569362dc80193e1": {
      "model_module": "ipycanvas",
      "model_module_version": "^0.4.3",
      "model_name": "CanvasModel",
      "state": {
       "_model_module_version": "^0.4.3",
       "_view_module_version": "^0.4.3",
       "height": 380,
       "layout": "IPY_MODEL_128174ffc6214de88205f91669265fab",
       "width": 800
      }
     },
     "0c12d41fa4ed4e73a1230a397ca42f96": {
      "buffers": [
       {
        "data": "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",
        "encoding": "base64",
        "path": [
         "image_data"
        ]
       }
      ],
      "model_module": "ipycanvas",
      "model_module_version": "^0.4.3",
      "model_name": "CanvasModel",
      "state": {
       "_model_module_version": "^0.4.3",
       "_view_module_version": "^0.4.3",
       "height": 380,
       "layout": "IPY_MODEL_dcbfd36c3f35495382c462b17ebcc154",
       "sync_image_data": true,
       "width": 800
      }
     },
     "0c3460afb53449d19716c906831ab970": {
      "model_module": "@jupyter-widgets/base",
      "model_module_version": "1.2.0",
      "model_name": "LayoutModel",
      "state": {}
     },
     "0c4ca12d69034804b72ca368e7c19df6": {
      "model_module": "@jupyter-widgets/base",
      "model_module_version": "1.2.0",
      "model_name": "LayoutModel",
      "state": {}
     },
     "0e8d4faaacc549e6bf6b25f898565925": {
      "model_module": "ipycanvas",
      "model_module_version": "^0.4.3",
      "model_name": "CanvasModel",
      "state": {
       "_model_module_version": "^0.4.3",
       "_view_module_version": "^0.4.3",
       "height": 300,
       "layout": "IPY_MODEL_1454285df7f94b4abaf77df9c3bf529e",
       "width": 800
      }
     },
     "0fdb433375fd4fb8993b2b3226790823": {
      "model_module": "ipycanvas",
      "model_module_version": "^0.4.3",
      "model_name": "CanvasModel",
      "state": {
       "_model_module_version": "^0.4.3",
       "_view_module_version": "^0.4.3",
       "height": 380,
       "layout": "IPY_MODEL_6307e1cd2e254886a4b9f6b0fdb3f063",
       "width": 800
      }
     },
     "1047ab89e037438cb68ae3da9fe5564b": {
      "model_module": "@jupyter-widgets/base",
      "model_module_version": "1.2.0",
      "model_name": "LayoutModel",
      "state": {}
     },
     "10646ce02337471fa67aa5e89d147652": {
      "model_module": "@jupyter-widgets/base",
      "model_module_version": "1.2.0",
      "model_name": "LayoutModel",
      "state": {}
     },
     "10823b4b09fb47d3bc1af5c7f91d287d": {
      "model_module": "@jupyter-widgets/base",
      "model_module_version": "1.2.0",
      "model_name": "LayoutModel",
      "state": {}
     },
     "128174ffc6214de88205f91669265fab": {
      "model_module": "@jupyter-widgets/base",
      "model_module_version": "1.2.0",
      "model_name": "LayoutModel",
      "state": {}
     },
     "12df080b05a34957ba48497e764f27e9": {
      "model_module": "ipycanvas",
      "model_module_version": "^0.4.3",
      "model_name": "CanvasModel",
      "state": {
       "_model_module_version": "^0.4.3",
       "_view_module_version": "^0.4.3",
       "height": 380,
       "layout": "IPY_MODEL_1bc33c5564164c5cb466c09b1aba049c",
       "width": 800
      }
     },
     "132ce00b16fd44abb2689162c882e837": {
      "model_module": "@jupyter-widgets/base",
      "model_module_version": "1.2.0",
      "model_name": "LayoutModel",
      "state": {}
     },
     "13da32572aa149bc881c0fbad6fab37c": {
      "model_module": "ipycanvas",
      "model_module_version": "^0.4.3",
      "model_name": "CanvasModel",
      "state": {
       "_model_module_version": "^0.4.3",
       "_view_module_version": "^0.4.3",
       "height": 380,
       "layout": "IPY_MODEL_ea367227bfdf438887a2dead9fa37edf",
       "width": 800
      }
     },
     "1425ea491ed9487da4ae609c497cce67": {
      "model_module": "@jupyter-widgets/base",
      "model_module_version": "1.2.0",
      "model_name": "LayoutModel",
      "state": {}
     },
     "1454285df7f94b4abaf77df9c3bf529e": {
      "model_module": "@jupyter-widgets/base",
      "model_module_version": "1.2.0",
      "model_name": "LayoutModel",
      "state": {}
     },
     "15b227a9833b4896b208add6e045593b": {
      "model_module": "@jupyter-widgets/base",
      "model_module_version": "1.2.0",
      "model_name": "LayoutModel",
      "state": {}
     },
     "15b5aeda33684b268aa9edfe8a338dd4": {
      "model_module": "ipycanvas",
      "model_module_version": "^0.4.3",
      "model_name": "CanvasModel",
      "state": {
       "_model_module_version": "^0.4.3",
       "_view_module_version": "^0.4.3",
       "height": 380,
       "layout": "IPY_MODEL_4110ef8dff2a4d70af4ff2970bfab956",
       "width": 800
      }
     },
     "15c95343b0e649bb931d772a35c34040": {
      "model_module": "ipycanvas",
      "model_module_version": "^0.4.3",
      "model_name": "CanvasModel",
      "state": {
       "_model_module_version": "^0.4.3",
       "_view_module_version": "^0.4.3",
       "height": 380,
       "layout": "IPY_MODEL_841a756071974965aff17fb70001c113",
       "width": 800
      }
     },
     "16c35743d93b4db48668cd8120456696": {
      "model_module": "ipycanvas",
      "model_module_version": "^0.4.3",
      "model_name": "CanvasModel",
      "state": {
       "_model_module_version": "^0.4.3",
       "_view_module_version": "^0.4.3",
       "height": 380,
       "layout": "IPY_MODEL_ad208988656f4852a82dd13c70690834",
       "width": 800
      }
     },
     "17f2c3ca6482436b83ce8d820a9d01b0": {
      "model_module": "ipycanvas",
      "model_module_version": "^0.4.3",
      "model_name": "CanvasModel",
      "state": {
       "_model_module_version": "^0.4.3",
       "_view_module_version": "^0.4.3",
       "height": 300,
       "layout": "IPY_MODEL_07d0a2e050474196af92fa5cfa26e43d",
       "width": 800
      }
     },
     "1a94f8eb8ac142328c14c7f564ddcdd6": {
      "model_module": "@jupyter-widgets/base",
      "model_module_version": "1.2.0",
      "model_name": "LayoutModel",
      "state": {}
     },
     "1b7003555e8f421989813e19455af85a": {
      "model_module": "@jupyter-widgets/base",
      "model_module_version": "1.2.0",
      "model_name": "LayoutModel",
      "state": {}
     },
     "1bc33c5564164c5cb466c09b1aba049c": {
      "model_module": "@jupyter-widgets/base",
      "model_module_version": "1.2.0",
      "model_name": "LayoutModel",
      "state": {}
     },
     "1c81aac0363347028dd33ed316b5a212": {
      "model_module": "@jupyter-widgets/base",
      "model_module_version": "1.2.0",
      "model_name": "LayoutModel",
      "state": {}
     },
     "1d9af4ee97ae454eaf4044007ffc09f2": {
      "model_module": "ipycanvas",
      "model_module_version": "^0.4.3",
      "model_name": "CanvasModel",
      "state": {
       "_model_module_version": "^0.4.3",
       "_view_module_version": "^0.4.3",
       "height": 380,
       "layout": "IPY_MODEL_132ce00b16fd44abb2689162c882e837",
       "width": 800
      }
     },
     "2025d258f0a94b188debb1d724b99913": {
      "model_module": "@jupyter-widgets/base",
      "model_module_version": "1.2.0",
      "model_name": "LayoutModel",
      "state": {}
     },
     "21431b1058a54cc0a15aa024f3cf7a83": {
      "model_module": "ipycanvas",
      "model_module_version": "^0.4.3",
      "model_name": "CanvasModel",
      "state": {
       "_model_module_version": "^0.4.3",
       "_view_module_version": "^0.4.3",
       "height": 380,
       "layout": "IPY_MODEL_d35aa3ab726f46b39e93ffebfc772361",
       "width": 800
      }
     },
     "252919533a0b42bf8a4d4728ea1f2d8b": {
      "model_module": "ipycanvas",
      "model_module_version": "^0.4.3",
      "model_name": "CanvasModel",
      "state": {
       "_model_module_version": "^0.4.3",
       "_view_module_version": "^0.4.3",
       "height": 380,
       "layout": "IPY_MODEL_86fb419215e44993924756c108bc7c4e",
       "width": 800
      }
     },
     "25f9b17d93424782a0623876ae13f1fc": {
      "model_module": "@jupyter-widgets/base",
      "model_module_version": "1.2.0",
      "model_name": "LayoutModel",
      "state": {}
     },
     "2854616373e3462a96a8580f708c7148": {
      "model_module": "ipycanvas",
      "model_module_version": "^0.4.3",
      "model_name": "CanvasModel",
      "state": {
       "_model_module_version": "^0.4.3",
       "_view_module_version": "^0.4.3",
       "height": 380,
       "layout": "IPY_MODEL_94bb11f771144196b11e766f6d614dab",
       "width": 800
      }
     },
     "2bf483ad3c394d2cb58e5fe8716de9c3": {
      "model_module": "ipycanvas",
      "model_module_version": "^0.4.3",
      "model_name": "CanvasModel",
      "state": {
       "_model_module_version": "^0.4.3",
       "_view_module_version": "^0.4.3",
       "height": 380,
       "layout": "IPY_MODEL_6b90b5867b6b43f38920e3b7f054886e",
       "width": 800
      }
     },
     "2e1b975d0a6f4b46998976d9c8aad80c": {
      "model_module": "@jupyter-widgets/base",
      "model_module_version": "1.2.0",
      "model_name": "LayoutModel",
      "state": {}
     },
     "2f6419ae3c3a4d1a830a91d07f3463f1": {
      "model_module": "@jupyter-widgets/base",
      "model_module_version": "1.2.0",
      "model_name": "LayoutModel",
      "state": {}
     },
     "30b0388539d04b0093cf4285607faf8e": {
      "model_module": "ipycanvas",
      "model_module_version": "^0.4.3",
      "model_name": "CanvasModel",
      "state": {
       "_model_module_version": "^0.4.3",
       "_view_module_version": "^0.4.3",
       "height": 300,
       "layout": "IPY_MODEL_4ccfc049bc2847a694ecdba0416a5405",
       "width": 800
      }
     },
     "30c170a07eb44305a544a9369a68fda5": {
      "model_module": "@jupyter-widgets/base",
      "model_module_version": "1.2.0",
      "model_name": "LayoutModel",
      "state": {}
     },
     "326beb2c274e4cfea2a0e4322c2d147c": {
      "model_module": "ipycanvas",
      "model_module_version": "^0.4.3",
      "model_name": "CanvasModel",
      "state": {
       "_model_module_version": "^0.4.3",
       "_view_module_version": "^0.4.3",
       "height": 380,
       "layout": "IPY_MODEL_30c170a07eb44305a544a9369a68fda5",
       "width": 800
      }
     },
     "332b50a674ee4371a5b8e414560f608c": {
      "model_module": "ipycanvas",
      "model_module_version": "^0.4.3",
      "model_name": "CanvasModel",
      "state": {
       "_model_module_version": "^0.4.3",
       "_view_module_version": "^0.4.3",
       "height": 380,
       "layout": "IPY_MODEL_10823b4b09fb47d3bc1af5c7f91d287d",
       "width": 800
      }
     },
     "36cb670f3bac4966a217e752daf1ec32": {
      "model_module": "ipycanvas",
      "model_module_version": "^0.4.3",
      "model_name": "CanvasModel",
      "state": {
       "_model_module_version": "^0.4.3",
       "_view_module_version": "^0.4.3",
       "height": 380,
       "layout": "IPY_MODEL_f04f3d30ee1a4f3aad014bc92140384a",
       "width": 800
      }
     },
     "3b1d82340206422b965802212a40a03f": {
      "model_module": "@jupyter-widgets/base",
      "model_module_version": "1.2.0",
      "model_name": "LayoutModel",
      "state": {}
     },
     "3bdc1fc2c2a64360b5e8182140569be3": {
      "model_module": "@jupyter-widgets/base",
      "model_module_version": "1.2.0",
      "model_name": "LayoutModel",
      "state": {}
     },
     "3e6335dbb3a34b498f13138e45fdfe6e": {
      "model_module": "@jupyter-widgets/base",
      "model_module_version": "1.2.0",
      "model_name": "LayoutModel",
      "state": {}
     },
     "3f2d7eb572c64892ac64fddb26fe1252": {
      "model_module": "ipycanvas",
      "model_module_version": "^0.4.3",
      "model_name": "CanvasModel",
      "state": {
       "_model_module_version": "^0.4.3",
       "_view_module_version": "^0.4.3",
       "height": 380,
       "layout": "IPY_MODEL_baafd9b41d474f8dbaf4ceef25ea74cb",
       "width": 800
      }
     },
     "4110ef8dff2a4d70af4ff2970bfab956": {
      "model_module": "@jupyter-widgets/base",
      "model_module_version": "1.2.0",
      "model_name": "LayoutModel",
      "state": {}
     },
     "41d38cf3af984e15b7452df5dd48ad9f": {
      "model_module": "@jupyter-widgets/base",
      "model_module_version": "1.2.0",
      "model_name": "LayoutModel",
      "state": {}
     },
     "44cbe5ed2c344c07b056902ad1d8e2a1": {
      "model_module": "ipycanvas",
      "model_module_version": "^0.4.3",
      "model_name": "CanvasModel",
      "state": {
       "_model_module_version": "^0.4.3",
       "_view_module_version": "^0.4.3",
       "height": 380,
       "layout": "IPY_MODEL_0c3460afb53449d19716c906831ab970",
       "width": 800
      }
     },
     "4705c1bd7263490ab140d1312fa4ab51": {
      "model_module": "ipycanvas",
      "model_module_version": "^0.4.3",
      "model_name": "CanvasModel",
      "state": {
       "_model_module_version": "^0.4.3",
       "_view_module_version": "^0.4.3",
       "height": 380,
       "layout": "IPY_MODEL_046276ae8eba4ebbb7e4d5fb98425858",
       "width": 800
      }
     },
     "4835b6ca1a6e4250a1c837e1825b2940": {
      "model_module": "@jupyter-widgets/base",
      "model_module_version": "1.2.0",
      "model_name": "LayoutModel",
      "state": {}
     },
     "4c8e4ef463ca470e8602cf92416ad8b8": {
      "model_module": "@jupyter-widgets/base",
      "model_module_version": "1.2.0",
      "model_name": "LayoutModel",
      "state": {}
     },
     "4ccfc049bc2847a694ecdba0416a5405": {
      "model_module": "@jupyter-widgets/base",
      "model_module_version": "1.2.0",
      "model_name": "LayoutModel",
      "state": {}
     },
     "4f78e465979a431a8695a2e774a49aa9": {
      "model_module": "ipycanvas",
      "model_module_version": "^0.4.3",
      "model_name": "CanvasModel",
      "state": {
       "_model_module_version": "^0.4.3",
       "_view_module_version": "^0.4.3",
       "height": 380,
       "layout": "IPY_MODEL_8b7ffcd7364b4e3a9018c59de0022574",
       "width": 800
      }
     },
     "5037cec949644bbcaf673b704d08a390": {
      "model_module": "@jupyter-widgets/base",
      "model_module_version": "1.2.0",
      "model_name": "LayoutModel",
      "state": {}
     },
     "546cc1f6f64c4c9d8ab283946e9ba509": {
      "model_module": "@jupyter-widgets/base",
      "model_module_version": "1.2.0",
      "model_name": "LayoutModel",
      "state": {}
     },
     "5e344af7f51b4c7896c5942ac5adbc17": {
      "model_module": "@jupyter-widgets/base",
      "model_module_version": "1.2.0",
      "model_name": "LayoutModel",
      "state": {}
     },
     "5f79479ff57744d0a5d75e60ed67d7c1": {
      "model_module": "ipycanvas",
      "model_module_version": "^0.4.3",
      "model_name": "CanvasModel",
      "state": {
       "_model_module_version": "^0.4.3",
       "_view_module_version": "^0.4.3",
       "height": 380,
       "layout": "IPY_MODEL_1425ea491ed9487da4ae609c497cce67",
       "width": 800
      }
     },
     "614b22513db24e588de11992a3979ace": {
      "model_module": "ipycanvas",
      "model_module_version": "^0.4.3",
      "model_name": "CanvasModel",
      "state": {
       "_model_module_version": "^0.4.3",
       "_view_module_version": "^0.4.3",
       "height": 380,
       "layout": "IPY_MODEL_6fc933d4e4f449f1a70538048160ff2b",
       "width": 800
      }
     },
     "61d545f448e14080ab22e7db87193e89": {
      "model_module": "ipycanvas",
      "model_module_version": "^0.4.3",
      "model_name": "CanvasModel",
      "state": {
       "_model_module_version": "^0.4.3",
       "_view_module_version": "^0.4.3",
       "height": 380,
       "layout": "IPY_MODEL_053f3361a30a49b2961dc674141b2f3a",
       "width": 800
      }
     },
     "62b31d10f7cd444cbb21e1aeea128c1d": {
      "model_module": "ipycanvas",
      "model_module_version": "^0.4.3",
      "model_name": "CanvasModel",
      "state": {
       "_model_module_version": "^0.4.3",
       "_view_module_version": "^0.4.3",
       "height": 300,
       "layout": "IPY_MODEL_9e233e34f4d54698ac19d45ec1bcfbef",
       "width": 800
      }
     },
     "6307e1cd2e254886a4b9f6b0fdb3f063": {
      "model_module": "@jupyter-widgets/base",
      "model_module_version": "1.2.0",
      "model_name": "LayoutModel",
      "state": {}
     },
     "650b8fa1e98746609ea931567c65b0f8": {
      "model_module": "ipycanvas",
      "model_module_version": "^0.4.3",
      "model_name": "CanvasModel",
      "state": {
       "_model_module_version": "^0.4.3",
       "_view_module_version": "^0.4.3",
       "height": 380,
       "layout": "IPY_MODEL_ec80f7f462a744fdb3d63051bd5ac172",
       "width": 800
      }
     },
     "65b66ba07cf647249a6b6d87c4df1de4": {
      "model_module": "ipycanvas",
      "model_module_version": "^0.4.3",
      "model_name": "CanvasModel",
      "state": {
       "_model_module_version": "^0.4.3",
       "_view_module_version": "^0.4.3",
       "height": 380,
       "layout": "IPY_MODEL_5037cec949644bbcaf673b704d08a390",
       "width": 800
      }
     },
     "676e64a54c9c4ce2a6e321633415136f": {
      "model_module": "ipycanvas",
      "model_module_version": "^0.4.3",
      "model_name": "CanvasModel",
      "state": {
       "_model_module_version": "^0.4.3",
       "_view_module_version": "^0.4.3",
       "height": 380,
       "layout": "IPY_MODEL_ec82458f2b104a6081df063f6a75b92b",
       "width": 800
      }
     },
     "68250d15196a4059bc4cb0e6ce54463b": {
      "model_module": "ipycanvas",
      "model_module_version": "^0.4.3",
      "model_name": "CanvasModel",
      "state": {
       "_model_module_version": "^0.4.3",
       "_view_module_version": "^0.4.3",
       "height": 380,
       "layout": "IPY_MODEL_db3ce2b93d694d428216fd49ce3f9107",
       "width": 800
      }
     },
     "690c2ee90ff3431799bf2c82b7444a19": {
      "model_module": "ipycanvas",
      "model_module_version": "^0.4.3",
      "model_name": "CanvasModel",
      "state": {
       "_model_module_version": "^0.4.3",
       "_view_module_version": "^0.4.3",
       "height": 380,
       "layout": "IPY_MODEL_10646ce02337471fa67aa5e89d147652",
       "width": 800
      }
     },
     "696ae6ca4d55477a99aae4dfd52b42e9": {
      "model_module": "@jupyter-widgets/base",
      "model_module_version": "1.2.0",
      "model_name": "LayoutModel",
      "state": {}
     },
     "6b171f55682543b1adc7da9b0e9ee152": {
      "model_module": "@jupyter-widgets/base",
      "model_module_version": "1.2.0",
      "model_name": "LayoutModel",
      "state": {}
     },
     "6b90b5867b6b43f38920e3b7f054886e": {
      "model_module": "@jupyter-widgets/base",
      "model_module_version": "1.2.0",
      "model_name": "LayoutModel",
      "state": {}
     },
     "6c47f84583114a38949eb25d660bc2e4": {
      "model_module": "ipycanvas",
      "model_module_version": "^0.4.3",
      "model_name": "CanvasModel",
      "state": {
       "_model_module_version": "^0.4.3",
       "_view_module_version": "^0.4.3",
       "height": 380,
       "layout": "IPY_MODEL_b09554bed0b64b01942474e9b8f21fa4",
       "width": 800
      }
     },
     "6c90dfb3c51d496f9ff7c501f868c915": {
      "model_module": "ipycanvas",
      "model_module_version": "^0.4.3",
      "model_name": "CanvasModel",
      "state": {
       "_model_module_version": "^0.4.3",
       "_view_module_version": "^0.4.3",
       "height": 300,
       "layout": "IPY_MODEL_6b171f55682543b1adc7da9b0e9ee152",
       "width": 800
      }
     },
     "6d186ddda4ca4501a8666145d43c0c3b": {
      "model_module": "ipycanvas",
      "model_module_version": "^0.4.3",
      "model_name": "CanvasModel",
      "state": {
       "_model_module_version": "^0.4.3",
       "_view_module_version": "^0.4.3",
       "height": 300,
       "layout": "IPY_MODEL_1c81aac0363347028dd33ed316b5a212",
       "width": 800
      }
     },
     "6fc933d4e4f449f1a70538048160ff2b": {
      "model_module": "@jupyter-widgets/base",
      "model_module_version": "1.2.0",
      "model_name": "LayoutModel",
      "state": {}
     },
     "718d5a0a953848708449be58b1ee2857": {
      "model_module": "ipycanvas",
      "model_module_version": "^0.4.3",
      "model_name": "CanvasModel",
      "state": {
       "_model_module_version": "^0.4.3",
       "_view_module_version": "^0.4.3",
       "height": 380,
       "layout": "IPY_MODEL_2f6419ae3c3a4d1a830a91d07f3463f1",
       "width": 800
      }
     },
     "727eb40c45034da79e7acef9ab62daec": {
      "model_module": "@jupyter-widgets/base",
      "model_module_version": "1.2.0",
      "model_name": "LayoutModel",
      "state": {}
     },
     "76df066ea9d540fab73d3808be4e183d": {
      "model_module": "ipycanvas",
      "model_module_version": "^0.4.3",
      "model_name": "CanvasModel",
      "state": {
       "_model_module_version": "^0.4.3",
       "_view_module_version": "^0.4.3",
       "height": 380,
       "layout": "IPY_MODEL_4835b6ca1a6e4250a1c837e1825b2940",
       "width": 800
      }
     },
     "7705bb713fb049ddbe9745fda30285e1": {
      "model_module": "ipycanvas",
      "model_module_version": "^0.4.3",
      "model_name": "CanvasModel",
      "state": {
       "_model_module_version": "^0.4.3",
       "_view_module_version": "^0.4.3",
       "height": 380,
       "layout": "IPY_MODEL_1b7003555e8f421989813e19455af85a",
       "width": 800
      }
     },
     "7c369140654e47bcb06131e6bf5ccb6f": {
      "model_module": "ipycanvas",
      "model_module_version": "^0.4.3",
      "model_name": "CanvasModel",
      "state": {
       "_model_module_version": "^0.4.3",
       "_view_module_version": "^0.4.3",
       "height": 380,
       "layout": "IPY_MODEL_b650fa3b4fe343d1a90abe0d3ea0f6d1",
       "width": 800
      }
     },
     "80ca8735d3fa4f3d930be388b03c4475": {
      "model_module": "ipycanvas",
      "model_module_version": "^0.4.3",
      "model_name": "CanvasModel",
      "state": {
       "_model_module_version": "^0.4.3",
       "_view_module_version": "^0.4.3",
       "height": 380,
       "layout": "IPY_MODEL_2e1b975d0a6f4b46998976d9c8aad80c",
       "sync_image_data": true,
       "width": 800
      }
     },
     "841a756071974965aff17fb70001c113": {
      "model_module": "@jupyter-widgets/base",
      "model_module_version": "1.2.0",
      "model_name": "LayoutModel",
      "state": {}
     },
     "85089a98f773414d8e713633988d4b1a": {
      "model_module": "@jupyter-widgets/base",
      "model_module_version": "1.2.0",
      "model_name": "LayoutModel",
      "state": {}
     },
     "86fb419215e44993924756c108bc7c4e": {
      "model_module": "@jupyter-widgets/base",
      "model_module_version": "1.2.0",
      "model_name": "LayoutModel",
      "state": {}
     },
     "8883fd2affa94674a0a13bbff220474d": {
      "model_module": "ipycanvas",
      "model_module_version": "^0.4.3",
      "model_name": "CanvasModel",
      "state": {
       "_model_module_version": "^0.4.3",
       "_view_module_version": "^0.4.3",
       "height": 380,
       "layout": "IPY_MODEL_dc917ad725914172b66a968bb907734b",
       "width": 800
      }
     },
     "8886bdb0901044218b1c49915b6bfb4e": {
      "model_module": "@jupyter-widgets/base",
      "model_module_version": "1.2.0",
      "model_name": "LayoutModel",
      "state": {}
     },
     "89ad8d2066e54458986a5339f0dd67db": {
      "model_module": "ipycanvas",
      "model_module_version": "^0.4.3",
      "model_name": "CanvasModel",
      "state": {
       "_model_module_version": "^0.4.3",
       "_view_module_version": "^0.4.3",
       "height": 300,
       "layout": "IPY_MODEL_3b1d82340206422b965802212a40a03f",
       "width": 800
      }
     },
     "8b7ffcd7364b4e3a9018c59de0022574": {
      "model_module": "@jupyter-widgets/base",
      "model_module_version": "1.2.0",
      "model_name": "LayoutModel",
      "state": {}
     },
     "8bc9262316b44f9d99a81e5dd7e27dcf": {
      "model_module": "ipycanvas",
      "model_module_version": "^0.4.3",
      "model_name": "CanvasModel",
      "state": {
       "_model_module_version": "^0.4.3",
       "_view_module_version": "^0.4.3",
       "height": 300,
       "layout": "IPY_MODEL_25f9b17d93424782a0623876ae13f1fc",
       "width": 800
      }
     },
     "8c0f4621b05344c78c424b7a2d5ad182": {
      "model_module": "ipycanvas",
      "model_module_version": "^0.4.3",
      "model_name": "CanvasModel",
      "state": {
       "_model_module_version": "^0.4.3",
       "_view_module_version": "^0.4.3",
       "height": 380,
       "layout": "IPY_MODEL_9e4c968ddde345e48174caee642e44a8",
       "width": 800
      }
     },
     "8d8b64580dff45b0b1bf841b0e366585": {
      "model_module": "ipycanvas",
      "model_module_version": "^0.4.3",
      "model_name": "CanvasModel",
      "state": {
       "_model_module_version": "^0.4.3",
       "_view_module_version": "^0.4.3",
       "height": 380,
       "layout": "IPY_MODEL_9b831ef4922846ccae8ec2bf54a81170",
       "width": 800
      }
     },
     "8e5691e5396a45ebb514ca51b6dcc95f": {
      "model_module": "ipycanvas",
      "model_module_version": "^0.4.3",
      "model_name": "CanvasModel",
      "state": {
       "_model_module_version": "^0.4.3",
       "_view_module_version": "^0.4.3",
       "height": 300,
       "layout": "IPY_MODEL_8edb59fac3a4407d9ed58e5d9e73140a",
       "width": 800
      }
     },
     "8edb59fac3a4407d9ed58e5d9e73140a": {
      "model_module": "@jupyter-widgets/base",
      "model_module_version": "1.2.0",
      "model_name": "LayoutModel",
      "state": {}
     },
     "8f02a3cfed7e4790914ad585651f0a23": {
      "model_module": "ipycanvas",
      "model_module_version": "^0.4.3",
      "model_name": "CanvasModel",
      "state": {
       "_model_module_version": "^0.4.3",
       "_view_module_version": "^0.4.3",
       "height": 380,
       "layout": "IPY_MODEL_fcdc277e3f5a4c0bb1f55dad71c56d6a",
       "width": 800
      }
     },
     "8f322feed3fb4b09b89585d5cecd5aaf": {
      "model_module": "ipycanvas",
      "model_module_version": "^0.4.3",
      "model_name": "CanvasModel",
      "state": {
       "_model_module_version": "^0.4.3",
       "_view_module_version": "^0.4.3",
       "height": 300,
       "layout": "IPY_MODEL_d6e2dabf59264d6583a1f2fc0198de47",
       "width": 800
      }
     },
     "924c7d25384a44c18d76fb89533d1ad2": {
      "model_module": "ipycanvas",
      "model_module_version": "^0.4.3",
      "model_name": "CanvasModel",
      "state": {
       "_model_module_version": "^0.4.3",
       "_view_module_version": "^0.4.3",
       "height": 380,
       "layout": "IPY_MODEL_f0d6126fb3144c16ad903b323dffe553",
       "width": 800
      }
     },
     "94bb11f771144196b11e766f6d614dab": {
      "model_module": "@jupyter-widgets/base",
      "model_module_version": "1.2.0",
      "model_name": "LayoutModel",
      "state": {}
     },
     "956951b0f228468381fb1ddb0ebf77df": {
      "model_module": "@jupyter-widgets/base",
      "model_module_version": "1.2.0",
      "model_name": "LayoutModel",
      "state": {}
     },
     "9600a2126275467da7b65fe0c589962e": {
      "model_module": "ipycanvas",
      "model_module_version": "^0.4.3",
      "model_name": "CanvasModel",
      "state": {
       "_model_module_version": "^0.4.3",
       "_view_module_version": "^0.4.3",
       "height": 300,
       "layout": "IPY_MODEL_41d38cf3af984e15b7452df5dd48ad9f",
       "width": 800
      }
     },
     "96dfe3b3195446bd8b1280b2e79348eb": {
      "model_module": "@jupyter-widgets/base",
      "model_module_version": "1.2.0",
      "model_name": "LayoutModel",
      "state": {}
     },
     "97338ed26b4646cd98f886eec506012f": {
      "model_module": "ipycanvas",
      "model_module_version": "^0.4.3",
      "model_name": "CanvasModel",
      "state": {
       "_model_module_version": "^0.4.3",
       "_view_module_version": "^0.4.3",
       "height": 300,
       "layout": "IPY_MODEL_ed4f55ae61594a9198fafc51cfd8d53c",
       "width": 800
      }
     },
     "97a1ca097db7428799cffdff1cc260dc": {
      "model_module": "ipycanvas",
      "model_module_version": "^0.4.3",
      "model_name": "CanvasModel",
      "state": {
       "_model_module_version": "^0.4.3",
       "_view_module_version": "^0.4.3",
       "height": 380,
       "layout": "IPY_MODEL_4c8e4ef463ca470e8602cf92416ad8b8",
       "width": 800
      }
     },
     "9b831ef4922846ccae8ec2bf54a81170": {
      "model_module": "@jupyter-widgets/base",
      "model_module_version": "1.2.0",
      "model_name": "LayoutModel",
      "state": {}
     },
     "9d69b7a14b3843ff85094fd15e18e75a": {
      "model_module": "@jupyter-widgets/base",
      "model_module_version": "1.2.0",
      "model_name": "LayoutModel",
      "state": {}
     },
     "9de244042ff14c5f894b9f4acd3899b9": {
      "model_module": "ipycanvas",
      "model_module_version": "^0.4.3",
      "model_name": "CanvasModel",
      "state": {
       "_model_module_version": "^0.4.3",
       "_view_module_version": "^0.4.3",
       "height": 380,
       "layout": "IPY_MODEL_b88b5d9bd8cf4119862821bdb8ed1bfd",
       "width": 800
      }
     },
     "9e230f4e2fc4470a9ad112be9338c4c6": {
      "model_module": "@jupyter-widgets/base",
      "model_module_version": "1.2.0",
      "model_name": "LayoutModel",
      "state": {}
     },
     "9e233e34f4d54698ac19d45ec1bcfbef": {
      "model_module": "@jupyter-widgets/base",
      "model_module_version": "1.2.0",
      "model_name": "LayoutModel",
      "state": {}
     },
     "9e4c968ddde345e48174caee642e44a8": {
      "model_module": "@jupyter-widgets/base",
      "model_module_version": "1.2.0",
      "model_name": "LayoutModel",
      "state": {}
     },
     "a11918eb579848cfb5ade044ee99c635": {
      "model_module": "ipycanvas",
      "model_module_version": "^0.4.3",
      "model_name": "CanvasModel",
      "state": {
       "_model_module_version": "^0.4.3",
       "_view_module_version": "^0.4.3",
       "height": 380,
       "layout": "IPY_MODEL_ec2ad024839c4c2b861e1f011c06d6de",
       "width": 800
      }
     },
     "a262991f87d9408788791951db92a54d": {
      "model_module": "ipycanvas",
      "model_module_version": "^0.4.3",
      "model_name": "CanvasModel",
      "state": {
       "_model_module_version": "^0.4.3",
       "_view_module_version": "^0.4.3",
       "height": 380,
       "layout": "IPY_MODEL_c417c678c02246cc93fb0c4693a47ceb",
       "width": 800
      }
     },
     "a28fbb14eb884e00b02f8509293b6f34": {
      "model_module": "ipycanvas",
      "model_module_version": "^0.4.3",
      "model_name": "CanvasModel",
      "state": {
       "_model_module_version": "^0.4.3",
       "_view_module_version": "^0.4.3",
       "height": 380,
       "layout": "IPY_MODEL_5e344af7f51b4c7896c5942ac5adbc17",
       "width": 800
      }
     },
     "a45ddeaf3c234b3ba8fca868f49835d6": {
      "model_module": "@jupyter-widgets/base",
      "model_module_version": "1.2.0",
      "model_name": "LayoutModel",
      "state": {}
     },
     "a7ce44f170fc4cf4b43819488cabd81b": {
      "model_module": "ipycanvas",
      "model_module_version": "^0.4.3",
      "model_name": "CanvasModel",
      "state": {
       "_model_module_version": "^0.4.3",
       "_view_module_version": "^0.4.3",
       "height": 380,
       "layout": "IPY_MODEL_96dfe3b3195446bd8b1280b2e79348eb",
       "width": 800
      }
     },
     "a86ea40592c240f0b15189a237de2976": {
      "model_module": "ipycanvas",
      "model_module_version": "^0.4.3",
      "model_name": "CanvasModel",
      "state": {
       "_model_module_version": "^0.4.3",
       "_view_module_version": "^0.4.3",
       "height": 300,
       "layout": "IPY_MODEL_2025d258f0a94b188debb1d724b99913",
       "width": 800
      }
     },
     "a941ba6996e64906ba76947482866c01": {
      "model_module": "ipycanvas",
      "model_module_version": "^0.4.3",
      "model_name": "CanvasModel",
      "state": {
       "_model_module_version": "^0.4.3",
       "_view_module_version": "^0.4.3",
       "height": 380,
       "layout": "IPY_MODEL_15b227a9833b4896b208add6e045593b",
       "width": 800
      }
     },
     "aa9a7f80805445018e88bf1b418d5174": {
      "model_module": "@jupyter-widgets/base",
      "model_module_version": "1.2.0",
      "model_name": "LayoutModel",
      "state": {}
     },
     "abc8856774b948b38d7d6022aed54ee3": {
      "model_module": "ipycanvas",
      "model_module_version": "^0.4.3",
      "model_name": "CanvasModel",
      "state": {
       "_model_module_version": "^0.4.3",
       "_view_module_version": "^0.4.3",
       "height": 380,
       "layout": "IPY_MODEL_956951b0f228468381fb1ddb0ebf77df",
       "width": 800
      }
     },
     "ac106b5564ad4c1b9aa4ec107f6bb3d0": {
      "model_module": "ipycanvas",
      "model_module_version": "^0.4.3",
      "model_name": "CanvasModel",
      "state": {
       "_model_module_version": "^0.4.3",
       "_view_module_version": "^0.4.3",
       "height": 380,
       "layout": "IPY_MODEL_9e230f4e2fc4470a9ad112be9338c4c6",
       "width": 800
      }
     },
     "ad208988656f4852a82dd13c70690834": {
      "model_module": "@jupyter-widgets/base",
      "model_module_version": "1.2.0",
      "model_name": "LayoutModel",
      "state": {}
     },
     "b09554bed0b64b01942474e9b8f21fa4": {
      "model_module": "@jupyter-widgets/base",
      "model_module_version": "1.2.0",
      "model_name": "LayoutModel",
      "state": {}
     },
     "b59d2021647b46ca819666955a0236da": {
      "model_module": "@jupyter-widgets/base",
      "model_module_version": "1.2.0",
      "model_name": "LayoutModel",
      "state": {}
     },
     "b650fa3b4fe343d1a90abe0d3ea0f6d1": {
      "model_module": "@jupyter-widgets/base",
      "model_module_version": "1.2.0",
      "model_name": "LayoutModel",
      "state": {}
     },
     "b85f2691dc504d9292b8e0d34c2abc19": {
      "model_module": "@jupyter-widgets/base",
      "model_module_version": "1.2.0",
      "model_name": "LayoutModel",
      "state": {}
     },
     "b88b5d9bd8cf4119862821bdb8ed1bfd": {
      "model_module": "@jupyter-widgets/base",
      "model_module_version": "1.2.0",
      "model_name": "LayoutModel",
      "state": {}
     },
     "baafd9b41d474f8dbaf4ceef25ea74cb": {
      "model_module": "@jupyter-widgets/base",
      "model_module_version": "1.2.0",
      "model_name": "LayoutModel",
      "state": {}
     },
     "bdc71da269c64078aeb99c18b78943db": {
      "model_module": "ipycanvas",
      "model_module_version": "^0.4.3",
      "model_name": "CanvasModel",
      "state": {
       "_model_module_version": "^0.4.3",
       "_view_module_version": "^0.4.3",
       "height": 380,
       "layout": "IPY_MODEL_1047ab89e037438cb68ae3da9fe5564b",
       "width": 800
      }
     },
     "c28242c2061442138b61a2fd3932e66e": {
      "model_module": "@jupyter-widgets/base",
      "model_module_version": "1.2.0",
      "model_name": "LayoutModel",
      "state": {}
     },
     "c417c678c02246cc93fb0c4693a47ceb": {
      "model_module": "@jupyter-widgets/base",
      "model_module_version": "1.2.0",
      "model_name": "LayoutModel",
      "state": {}
     },
     "c86829e93a7f46e69beadc590cf5d8a8": {
      "model_module": "@jupyter-widgets/base",
      "model_module_version": "1.2.0",
      "model_name": "LayoutModel",
      "state": {}
     },
     "c9900cd38104461d9784e20a4a1be465": {
      "model_module": "ipycanvas",
      "model_module_version": "^0.4.3",
      "model_name": "CanvasModel",
      "state": {
       "_model_module_version": "^0.4.3",
       "_view_module_version": "^0.4.3",
       "height": 380,
       "layout": "IPY_MODEL_eb327d1a424045fab4faf2472982eafb",
       "width": 800
      }
     },
     "ca6ea933d7e941daa8bfb737230226a1": {
      "model_module": "ipycanvas",
      "model_module_version": "^0.4.3",
      "model_name": "CanvasModel",
      "state": {
       "_model_module_version": "^0.4.3",
       "_view_module_version": "^0.4.3",
       "height": 380,
       "layout": "IPY_MODEL_0c4ca12d69034804b72ca368e7c19df6",
       "width": 800
      }
     },
     "cd3a3b91d2394cf4a76efff8d04b89a6": {
      "model_module": "ipycanvas",
      "model_module_version": "^0.4.3",
      "model_name": "CanvasModel",
      "state": {
       "_model_module_version": "^0.4.3",
       "_view_module_version": "^0.4.3",
       "height": 380,
       "layout": "IPY_MODEL_3bdc1fc2c2a64360b5e8182140569be3",
       "width": 800
      }
     },
     "d157b876b61f4b0189198db6d1b6e889": {
      "model_module": "ipycanvas",
      "model_module_version": "^0.4.3",
      "model_name": "CanvasModel",
      "state": {
       "_model_module_version": "^0.4.3",
       "_view_module_version": "^0.4.3",
       "height": 380,
       "layout": "IPY_MODEL_696ae6ca4d55477a99aae4dfd52b42e9",
       "width": 800
      }
     },
     "d35aa3ab726f46b39e93ffebfc772361": {
      "model_module": "@jupyter-widgets/base",
      "model_module_version": "1.2.0",
      "model_name": "LayoutModel",
      "state": {}
     },
     "d4f5e0f3b42947208f17bcba995c95a3": {
      "model_module": "ipycanvas",
      "model_module_version": "^0.4.3",
      "model_name": "CanvasModel",
      "state": {
       "_model_module_version": "^0.4.3",
       "_view_module_version": "^0.4.3",
       "height": 380,
       "layout": "IPY_MODEL_c86829e93a7f46e69beadc590cf5d8a8",
       "width": 800
      }
     },
     "d6e2dabf59264d6583a1f2fc0198de47": {
      "model_module": "@jupyter-widgets/base",
      "model_module_version": "1.2.0",
      "model_name": "LayoutModel",
      "state": {}
     },
     "d6ef6dace4bc44b981d5c23ac2903b31": {
      "model_module": "ipycanvas",
      "model_module_version": "^0.4.3",
      "model_name": "CanvasModel",
      "state": {
       "_model_module_version": "^0.4.3",
       "_view_module_version": "^0.4.3",
       "height": 380,
       "layout": "IPY_MODEL_e76d1a938a714451bf6f2bac725da883",
       "width": 800
      }
     },
     "d86b119f46f4447e87b8711c8fd1a97e": {
      "model_module": "@jupyter-widgets/base",
      "model_module_version": "1.2.0",
      "model_name": "LayoutModel",
      "state": {}
     },
     "da12917b6eb0424da8bdcc3a9e7333af": {
      "model_module": "ipycanvas",
      "model_module_version": "^0.4.3",
      "model_name": "CanvasModel",
      "state": {
       "_model_module_version": "^0.4.3",
       "_view_module_version": "^0.4.3",
       "height": 300,
       "layout": "IPY_MODEL_727eb40c45034da79e7acef9ab62daec",
       "width": 800
      }
     },
     "dace6e35574141168e543c344bfcd0f6": {
      "model_module": "@jupyter-widgets/base",
      "model_module_version": "1.2.0",
      "model_name": "LayoutModel",
      "state": {}
     },
     "db3ce2b93d694d428216fd49ce3f9107": {
      "model_module": "@jupyter-widgets/base",
      "model_module_version": "1.2.0",
      "model_name": "LayoutModel",
      "state": {}
     },
     "dc917ad725914172b66a968bb907734b": {
      "model_module": "@jupyter-widgets/base",
      "model_module_version": "1.2.0",
      "model_name": "LayoutModel",
      "state": {}
     },
     "dcbfd36c3f35495382c462b17ebcc154": {
      "model_module": "@jupyter-widgets/base",
      "model_module_version": "1.2.0",
      "model_name": "LayoutModel",
      "state": {}
     },
     "de33d562183741508e9fb97ef0a4b67c": {
      "model_module": "ipycanvas",
      "model_module_version": "^0.4.3",
      "model_name": "CanvasModel",
      "state": {
       "_model_module_version": "^0.4.3",
       "_view_module_version": "^0.4.3",
       "height": 300,
       "layout": "IPY_MODEL_8886bdb0901044218b1c49915b6bfb4e",
       "width": 800
      }
     },
     "e21c1afd4a8d41d2bb6836769e46c967": {
      "model_module": "ipycanvas",
      "model_module_version": "^0.4.3",
      "model_name": "CanvasModel",
      "state": {
       "_model_module_version": "^0.4.3",
       "_view_module_version": "^0.4.3",
       "height": 380,
       "layout": "IPY_MODEL_fc84ae501c8142319a835b40e109b9b8",
       "width": 800
      }
     },
     "e6e4a92810184d92808896f4a5b17fe4": {
      "model_module": "@jupyter-widgets/base",
      "model_module_version": "1.2.0",
      "model_name": "LayoutModel",
      "state": {}
     },
     "e76d1a938a714451bf6f2bac725da883": {
      "model_module": "@jupyter-widgets/base",
      "model_module_version": "1.2.0",
      "model_name": "LayoutModel",
      "state": {}
     },
     "e7e3f41006e0498dbbb622ce5baca9cf": {
      "model_module": "@jupyter-widgets/base",
      "model_module_version": "1.2.0",
      "model_name": "LayoutModel",
      "state": {}
     },
     "e9130406b98349279eec42952b021f79": {
      "model_module": "ipycanvas",
      "model_module_version": "^0.4.3",
      "model_name": "CanvasModel",
      "state": {
       "_model_module_version": "^0.4.3",
       "_view_module_version": "^0.4.3",
       "height": 380,
       "layout": "IPY_MODEL_a45ddeaf3c234b3ba8fca868f49835d6",
       "width": 800
      }
     },
     "e9a730e7d3c44017aec71f4d39998e69": {
      "model_module": "@jupyter-widgets/base",
      "model_module_version": "1.2.0",
      "model_name": "LayoutModel",
      "state": {}
     },
     "e9ec292d0ac04d8e99346edbe8e8ca1d": {
      "model_module": "ipycanvas",
      "model_module_version": "^0.4.3",
      "model_name": "CanvasModel",
      "state": {
       "_model_module_version": "^0.4.3",
       "_view_module_version": "^0.4.3",
       "height": 380,
       "layout": "IPY_MODEL_aa9a7f80805445018e88bf1b418d5174",
       "width": 800
      }
     },
     "ea367227bfdf438887a2dead9fa37edf": {
      "model_module": "@jupyter-widgets/base",
      "model_module_version": "1.2.0",
      "model_name": "LayoutModel",
      "state": {}
     },
     "eb327d1a424045fab4faf2472982eafb": {
      "model_module": "@jupyter-widgets/base",
      "model_module_version": "1.2.0",
      "model_name": "LayoutModel",
      "state": {}
     },
     "ec2ad024839c4c2b861e1f011c06d6de": {
      "model_module": "@jupyter-widgets/base",
      "model_module_version": "1.2.0",
      "model_name": "LayoutModel",
      "state": {}
     },
     "ec80f7f462a744fdb3d63051bd5ac172": {
      "model_module": "@jupyter-widgets/base",
      "model_module_version": "1.2.0",
      "model_name": "LayoutModel",
      "state": {}
     },
     "ec82458f2b104a6081df063f6a75b92b": {
      "model_module": "@jupyter-widgets/base",
      "model_module_version": "1.2.0",
      "model_name": "LayoutModel",
      "state": {}
     },
     "eca6f27ea9d0492783f765d382732866": {
      "model_module": "ipycanvas",
      "model_module_version": "^0.4.3",
      "model_name": "CanvasModel",
      "state": {
       "_model_module_version": "^0.4.3",
       "_view_module_version": "^0.4.3",
       "height": 380,
       "layout": "IPY_MODEL_c28242c2061442138b61a2fd3932e66e",
       "width": 800
      }
     },
     "ecf6b13d67de44c884d7cd2679132f83": {
      "model_module": "ipycanvas",
      "model_module_version": "^0.4.3",
      "model_name": "CanvasModel",
      "state": {
       "_model_module_version": "^0.4.3",
       "_view_module_version": "^0.4.3",
       "height": 380,
       "layout": "IPY_MODEL_dace6e35574141168e543c344bfcd0f6",
       "width": 800
      }
     },
     "ed4f55ae61594a9198fafc51cfd8d53c": {
      "model_module": "@jupyter-widgets/base",
      "model_module_version": "1.2.0",
      "model_name": "LayoutModel",
      "state": {}
     },
     "ee5c4b6652a447c899585178413ef838": {
      "model_module": "ipycanvas",
      "model_module_version": "^0.4.3",
      "model_name": "CanvasModel",
      "state": {
       "_model_module_version": "^0.4.3",
       "_view_module_version": "^0.4.3",
       "height": 380,
       "layout": "IPY_MODEL_1a94f8eb8ac142328c14c7f564ddcdd6",
       "width": 800
      }
     },
     "ef3df864bf2a4bfc8b51485c0429a8fa": {
      "model_module": "ipycanvas",
      "model_module_version": "^0.4.3",
      "model_name": "CanvasModel",
      "state": {
       "_model_module_version": "^0.4.3",
       "_view_module_version": "^0.4.3",
       "height": 380,
       "layout": "IPY_MODEL_d86b119f46f4447e87b8711c8fd1a97e",
       "width": 800
      }
     },
     "f04f3d30ee1a4f3aad014bc92140384a": {
      "model_module": "@jupyter-widgets/base",
      "model_module_version": "1.2.0",
      "model_name": "LayoutModel",
      "state": {}
     },
     "f09bbc364e5143b384ec478f1eb6de8a": {
      "model_module": "ipycanvas",
      "model_module_version": "^0.4.3",
      "model_name": "CanvasModel",
      "state": {
       "_model_module_version": "^0.4.3",
       "_view_module_version": "^0.4.3",
       "height": 380,
       "layout": "IPY_MODEL_b59d2021647b46ca819666955a0236da",
       "width": 800
      }
     },
     "f0d6126fb3144c16ad903b323dffe553": {
      "model_module": "@jupyter-widgets/base",
      "model_module_version": "1.2.0",
      "model_name": "LayoutModel",
      "state": {}
     },
     "f149e5792eab4ebc86b4da0c61706876": {
      "model_module": "ipycanvas",
      "model_module_version": "^0.4.3",
      "model_name": "CanvasModel",
      "state": {
       "_model_module_version": "^0.4.3",
       "_view_module_version": "^0.4.3",
       "height": 380,
       "layout": "IPY_MODEL_e7e3f41006e0498dbbb622ce5baca9cf",
       "width": 800
      }
     },
     "f45626f30a3e4cd3ad35a3fcfde0046d": {
      "model_module": "@jupyter-widgets/base",
      "model_module_version": "1.2.0",
      "model_name": "LayoutModel",
      "state": {}
     },
     "f4cdbe34bc8846468d79cef721c6a75b": {
      "model_module": "ipycanvas",
      "model_module_version": "^0.4.3",
      "model_name": "CanvasModel",
      "state": {
       "_model_module_version": "^0.4.3",
       "_view_module_version": "^0.4.3",
       "height": 300,
       "layout": "IPY_MODEL_f45626f30a3e4cd3ad35a3fcfde0046d",
       "width": 800
      }
     },
     "f5362bcb40c5412aa393ef7e65eca14d": {
      "model_module": "ipycanvas",
      "model_module_version": "^0.4.3",
      "model_name": "CanvasModel",
      "state": {
       "_model_module_version": "^0.4.3",
       "_view_module_version": "^0.4.3",
       "height": 300,
       "layout": "IPY_MODEL_e9a730e7d3c44017aec71f4d39998e69",
       "width": 800
      }
     },
     "f604ddc523a34956a8c3cbb0c7cd60b5": {
      "model_module": "ipycanvas",
      "model_module_version": "^0.4.3",
      "model_name": "CanvasModel",
      "state": {
       "_model_module_version": "^0.4.3",
       "_view_module_version": "^0.4.3",
       "height": 380,
       "layout": "IPY_MODEL_fbfe7c77e37446a5801e0bf78f224e41",
       "width": 800
      }
     },
     "fbfe7c77e37446a5801e0bf78f224e41": {
      "model_module": "@jupyter-widgets/base",
      "model_module_version": "1.2.0",
      "model_name": "LayoutModel",
      "state": {}
     },
     "fc4795441de745e98aed64af3c7a336d": {
      "model_module": "ipycanvas",
      "model_module_version": "^0.4.3",
      "model_name": "CanvasModel",
      "state": {
       "_model_module_version": "^0.4.3",
       "_view_module_version": "^0.4.3",
       "height": 300,
       "layout": "IPY_MODEL_85089a98f773414d8e713633988d4b1a",
       "width": 800
      }
     },
     "fc84ae501c8142319a835b40e109b9b8": {
      "model_module": "@jupyter-widgets/base",
      "model_module_version": "1.2.0",
      "model_name": "LayoutModel",
      "state": {}
     },
     "fcdc277e3f5a4c0bb1f55dad71c56d6a": {
      "model_module": "@jupyter-widgets/base",
      "model_module_version": "1.2.0",
      "model_name": "LayoutModel",
      "state": {}
     },
     "fe3c168e3ea448649ca6b208fe9f8149": {
      "model_module": "ipycanvas",
      "model_module_version": "^0.4.3",
      "model_name": "CanvasModel",
      "state": {
       "_model_module_version": "^0.4.3",
       "_view_module_version": "^0.4.3",
       "height": 300,
       "layout": "IPY_MODEL_e6e4a92810184d92808896f4a5b17fe4",
       "width": 800
      }
     }
    },
    "version_major": 2,
    "version_minor": 0
   }
  }
 },
 "nbformat": 4,
 "nbformat_minor": 4
}
