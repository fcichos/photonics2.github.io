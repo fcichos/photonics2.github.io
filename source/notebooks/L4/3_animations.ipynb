{
 "cells": [
  {
   "cell_type": "markdown",
   "metadata": {},
   "source": [
    "# Animations"
   ]
  },
  {
   "cell_type": "code",
   "execution_count": 2,
   "metadata": {},
   "outputs": [],
   "source": [
    "from time import sleep\n",
    "from threading import Thread\n",
    "import numpy as np\n",
    "from ipycanvas import MultiCanvas, hold_canvas"
   ]
  },
  {
   "cell_type": "code",
   "execution_count": 9,
   "metadata": {},
   "outputs": [],
   "source": [
    "# number of particles\n",
    "N=100\n"
   ]
  },
  {
   "cell_type": "markdown",
   "metadata": {},
   "source": [
    "## Draw function for the particles"
   ]
  },
  {
   "cell_type": "code",
   "execution_count": 74,
   "metadata": {},
   "outputs": [],
   "source": [
    "def draw(pa,canvas, color='white'):\n",
    "    with hold_canvas(canvas):\n",
    "        canvas.clear()\n",
    "        canvas.fill_style = color\n",
    "        canvas.global_alpha = 0.2\n",
    "        for i in range(N):\n",
    "            canvas.fill_arc(pa[i].x+200, pa[i].y+200, 10, 0, 2*np.pi)\n",
    "            "
   ]
  },
  {
   "cell_type": "markdown",
   "metadata": {},
   "source": [
    "## Particle class"
   ]
  },
  {
   "cell_type": "code",
   "execution_count": null,
   "metadata": {},
   "outputs": [],
   "source": [
    "class Colloid:\n",
    "\n",
    "    # A class variable, counting the number of Colloids\n",
    "    number = 0\n",
    "    f = 2.2e-19 # this is k_B T/(6 pi eta) in m^3/s\n",
    "\n",
    "    # constructor\n",
    "    def __init__(self,R, x0=0, y0=0):        \n",
    "        # add initialisation code here\n",
    "        self.R=R\n",
    "        self.x=x0\n",
    "        self.y=y0\n",
    "        Colloid.number=Colloid.number+1\n",
    "        self.index=Colloid.number \n",
    "        self.D=2 #Colloid.f/self.R\n",
    "    \n",
    "    # method to return the name \n",
    "    def get_size(self):\n",
    "        return(self.R)\n",
    "    \n",
    "        \n",
    "    def get_D(self):        \n",
    "        return(self.D)\n",
    "    \n",
    "    def update(self,dt):\n",
    "        self.x=self.x+np.random.normal(0.0, np.sqrt(2*self.D*dt))\n",
    "        self.y=self.y+np.random.normal(0.0, np.sqrt(2*self.D*dt))\n",
    "        return(self.x,self.y)\n",
    "    \n",
    "    # class method accessing a class variable\n",
    "    @classmethod\n",
    "    def how_many(cls):\n",
    "        return(Colloid.number)\n",
    "    \n",
    "    # insert something that prints the particle position in a formatted way when printing\n",
    "    def __str__(self):\n",
    "        return(\"The particle with radius R={} is at x={},y={}.\".format(self.R, self.x, self.y))\n",
    "\n"
   ]
  },
  {
   "cell_type": "code",
   "execution_count": 76,
   "metadata": {},
   "outputs": [
    {
     "data": {
      "application/vnd.jupyter.widget-view+json": {
       "model_id": "45c9a48ea51f4abc9262dc5d30a5108d",
       "version_major": 2,
       "version_minor": 0
      },
      "text/plain": [
       "MultiCanvas(height=400, width=400)"
      ]
     },
     "metadata": {},
     "output_type": "display_data"
    }
   ],
   "source": [
    "# create a 2-layer canvas of 400 x 400 pixels\n",
    "# \n",
    "multi = MultiCanvas(2, width=400,height=400)\n",
    "multi[0].fill_style = '#FFFFB3'\n",
    "multi[0].fill_rect(0, 0, multi.size[0], multi.size[1])\n",
    "\n",
    "multi"
   ]
  },
  {
   "cell_type": "code",
   "execution_count": null,
   "metadata": {},
   "outputs": [],
   "source": [
    "p=[]\n",
    "for _ in range(N):\n",
    "    p.append(Colloid(10,0,0))"
   ]
  },
  {
   "cell_type": "code",
   "execution_count": null,
   "metadata": {},
   "outputs": [],
   "source": [
    "draw(p,multi[1], 'black')"
   ]
  },
  {
   "cell_type": "markdown",
   "metadata": {},
   "source": [
    "## Animation thread"
   ]
  },
  {
   "cell_type": "code",
   "execution_count": 58,
   "metadata": {},
   "outputs": [],
   "source": [
    "class RandomWalk(Thread):\n",
    "    def __init__(self,canvas):\n",
    "        self.canvas = canvas\n",
    "        super(RandomWalk, self).__init__()\n",
    "        self.dt=0.03\n",
    "\n",
    "    def run(self):\n",
    "        for _ in range(1000):\n",
    "            for i in range(N):\n",
    "                p[i].update(0.03)\n",
    "            draw(p,self.canvas, 'black')   \n",
    "            sleep(0.03)"
   ]
  },
  {
   "cell_type": "markdown",
   "metadata": {},
   "source": [
    "## Start the thread\n"
   ]
  },
  {
   "cell_type": "code",
   "execution_count": 59,
   "metadata": {},
   "outputs": [],
   "source": [
    "RandomWalk( multi[1]).start()"
   ]
  },
  {
   "cell_type": "code",
   "execution_count": 80,
   "metadata": {},
   "outputs": [],
   "source": [
    "for _ in range(1000):\n",
    "            for i in range(N):\n",
    "                p[i].update(0.23)\n",
    "            draw(p,multi[1], 'black')   \n",
    "            sleep(0.03)"
   ]
  },
  {
   "cell_type": "code",
   "execution_count": null,
   "metadata": {},
   "outputs": [],
   "source": []
  }
 ],
 "metadata": {
  "kernelspec": {
   "display_name": "Python 3",
   "language": "python",
   "name": "python3"
  },
  "language_info": {
   "codemirror_mode": {
    "name": "ipython",
    "version": 3
   },
   "file_extension": ".py",
   "mimetype": "text/x-python",
   "name": "python",
   "nbconvert_exporter": "python",
   "pygments_lexer": "ipython3",
   "version": "3.7.6"
  },
  "widgets": {
   "application/vnd.jupyter.widget-state+json": {
    "state": {
     "072878da7bf04bdf8df79cafcaf54a6f": {
      "model_module": "ipycanvas",
      "model_module_version": "^0.4.3",
      "model_name": "CanvasModel",
      "state": {
       "_model_module_version": "^0.4.3",
       "_view_module_version": "^0.4.3",
       "height": 400,
       "layout": "IPY_MODEL_96866bb62a4a4117a06fb808de494c95",
       "width": 400
      }
     },
     "089e9a1f161846f88850167ebe11a479": {
      "model_module": "ipycanvas",
      "model_module_version": "^0.4.3",
      "model_name": "CanvasModel",
      "state": {
       "_model_module_version": "^0.4.3",
       "_view_module_version": "^0.4.3",
       "height": 400,
       "layout": "IPY_MODEL_b495fbef03764c098b99c23cd357fcf7",
       "width": 400
      }
     },
     "0e0af0f5e839418ba4750b5fe0db53e7": {
      "model_module": "ipycanvas",
      "model_module_version": "^0.4.3",
      "model_name": "CanvasModel",
      "state": {
       "_model_module_version": "^0.4.3",
       "_view_module_version": "^0.4.3",
       "height": 400,
       "layout": "IPY_MODEL_770f89c890744ccbbf95adeb58ce2fdc",
       "width": 400
      }
     },
     "174acd4be656484398426a14b33a099a": {
      "model_module": "@jupyter-widgets/base",
      "model_module_version": "1.2.0",
      "model_name": "LayoutModel",
      "state": {}
     },
     "182d4adc457943e7ab47d19a4324eb9d": {
      "model_module": "@jupyter-widgets/base",
      "model_module_version": "1.2.0",
      "model_name": "LayoutModel",
      "state": {}
     },
     "1af1626dcba747fb89866e7db72d4c37": {
      "model_module": "@jupyter-widgets/base",
      "model_module_version": "1.2.0",
      "model_name": "LayoutModel",
      "state": {}
     },
     "226ebe7dc5c042029eedbddf49c46f2a": {
      "model_module": "ipycanvas",
      "model_module_version": "^0.4.3",
      "model_name": "CanvasModel",
      "state": {
       "_model_module_version": "^0.4.3",
       "_view_module_version": "^0.4.3",
       "height": 400,
       "layout": "IPY_MODEL_182d4adc457943e7ab47d19a4324eb9d",
       "width": 400
      }
     },
     "27a111d819ea48dab5ed7e794247c4b6": {
      "model_module": "@jupyter-widgets/base",
      "model_module_version": "1.2.0",
      "model_name": "LayoutModel",
      "state": {}
     },
     "2ad67cafd9b4460092b0cd46e16dcac6": {
      "model_module": "ipycanvas",
      "model_module_version": "^0.4.3",
      "model_name": "CanvasModel",
      "state": {
       "_model_module_version": "^0.4.3",
       "_view_module_version": "^0.4.3",
       "height": 400,
       "layout": "IPY_MODEL_62bfad15864248b1999b6fff39d4f97f",
       "width": 400
      }
     },
     "2b9d8f9f5be14b18b77ec2981f926a87": {
      "model_module": "@jupyter-widgets/base",
      "model_module_version": "1.2.0",
      "model_name": "LayoutModel",
      "state": {}
     },
     "2ced32a824274fd08e6a0320857fb995": {
      "model_module": "ipycanvas",
      "model_module_version": "^0.4.3",
      "model_name": "MultiCanvasModel",
      "state": {
       "_canvases": [
        "IPY_MODEL_a0ea27179f6f43459b5fb62f601cdb9e",
        "IPY_MODEL_9772314b38e94655a9162285ba91c95a"
       ],
       "_model_module_version": "^0.4.3",
       "_view_module_version": "^0.4.3",
       "height": 400,
       "layout": "IPY_MODEL_492b6e966a6c4b4e905f97f4bae357cc",
       "width": 400
      }
     },
     "2e5b8e3be7e54d5d90e3b35abfe4bc0d": {
      "model_module": "ipycanvas",
      "model_module_version": "^0.4.3",
      "model_name": "CanvasModel",
      "state": {
       "_model_module_version": "^0.4.3",
       "_view_module_version": "^0.4.3",
       "height": 400,
       "layout": "IPY_MODEL_d756ee293eec4003a2b4596f06c690b3",
       "width": 400
      }
     },
     "3ad0dccfc83c41a8b437c4c2c98f30ae": {
      "model_module": "ipycanvas",
      "model_module_version": "^0.4.3",
      "model_name": "CanvasModel",
      "state": {
       "_model_module_version": "^0.4.3",
       "_view_module_version": "^0.4.3",
       "height": 400,
       "layout": "IPY_MODEL_5e4dc09555dd405f9c82075c9a076c83",
       "width": 400
      }
     },
     "45c9a48ea51f4abc9262dc5d30a5108d": {
      "model_module": "ipycanvas",
      "model_module_version": "^0.4.3",
      "model_name": "MultiCanvasModel",
      "state": {
       "_canvases": [
        "IPY_MODEL_7caa02ed101b4482b3254a1da09a92fc",
        "IPY_MODEL_946d1da0ce8f461297289d34e4e024a2"
       ],
       "_model_module_version": "^0.4.3",
       "_view_module_version": "^0.4.3",
       "height": 400,
       "layout": "IPY_MODEL_f5cac7eebe4e4b42a6f52bc744679ab4",
       "width": 400
      }
     },
     "492b6e966a6c4b4e905f97f4bae357cc": {
      "model_module": "@jupyter-widgets/base",
      "model_module_version": "1.2.0",
      "model_name": "LayoutModel",
      "state": {}
     },
     "4939696a4d7645b1b3d4cd3ea46e6cd2": {
      "model_module": "ipycanvas",
      "model_module_version": "^0.4.3",
      "model_name": "MultiCanvasModel",
      "state": {
       "_canvases": [
        "IPY_MODEL_8e91d1b9b0f4404a8f79c0c48f6c3341",
        "IPY_MODEL_0e0af0f5e839418ba4750b5fe0db53e7"
       ],
       "_model_module_version": "^0.4.3",
       "_view_module_version": "^0.4.3",
       "height": 400,
       "layout": "IPY_MODEL_5d0d21b488254b0aa4b88f65a9eedc1a",
       "width": 400
      }
     },
     "4ced0ac3443b4b1988ea7fd6403089b9": {
      "model_module": "@jupyter-widgets/base",
      "model_module_version": "1.2.0",
      "model_name": "LayoutModel",
      "state": {}
     },
     "51c4dcdc15b845e487546fc7913456f3": {
      "model_module": "@jupyter-widgets/base",
      "model_module_version": "1.2.0",
      "model_name": "LayoutModel",
      "state": {}
     },
     "5561e83dcb97435e889f20e2df17441d": {
      "model_module": "ipycanvas",
      "model_module_version": "^0.4.3",
      "model_name": "CanvasModel",
      "state": {
       "_model_module_version": "^0.4.3",
       "_view_module_version": "^0.4.3",
       "height": 400,
       "layout": "IPY_MODEL_51c4dcdc15b845e487546fc7913456f3",
       "width": 400
      }
     },
     "562d537d1e5540c2b97332f6620438c4": {
      "model_module": "ipycanvas",
      "model_module_version": "^0.4.3",
      "model_name": "MultiCanvasModel",
      "state": {
       "_canvases": [
        "IPY_MODEL_226ebe7dc5c042029eedbddf49c46f2a",
        "IPY_MODEL_5665eef73ed849a185ded85d408ca8a2"
       ],
       "_model_module_version": "^0.4.3",
       "_view_module_version": "^0.4.3",
       "height": 400,
       "layout": "IPY_MODEL_1af1626dcba747fb89866e7db72d4c37",
       "width": 400
      }
     },
     "5665eef73ed849a185ded85d408ca8a2": {
      "model_module": "ipycanvas",
      "model_module_version": "^0.4.3",
      "model_name": "CanvasModel",
      "state": {
       "_model_module_version": "^0.4.3",
       "_view_module_version": "^0.4.3",
       "height": 400,
       "layout": "IPY_MODEL_b584af7902884971b3e19fa4a11a58c4",
       "width": 400
      }
     },
     "5d0d21b488254b0aa4b88f65a9eedc1a": {
      "model_module": "@jupyter-widgets/base",
      "model_module_version": "1.2.0",
      "model_name": "LayoutModel",
      "state": {}
     },
     "5e4dc09555dd405f9c82075c9a076c83": {
      "model_module": "@jupyter-widgets/base",
      "model_module_version": "1.2.0",
      "model_name": "LayoutModel",
      "state": {}
     },
     "62bfad15864248b1999b6fff39d4f97f": {
      "model_module": "@jupyter-widgets/base",
      "model_module_version": "1.2.0",
      "model_name": "LayoutModel",
      "state": {}
     },
     "6e20c655e04d495cb305d531a2a8280a": {
      "model_module": "ipycanvas",
      "model_module_version": "^0.4.3",
      "model_name": "MultiCanvasModel",
      "state": {
       "_canvases": [
        "IPY_MODEL_2e5b8e3be7e54d5d90e3b35abfe4bc0d",
        "IPY_MODEL_ee89a190baa84c2083408cc2029eac21"
       ],
       "_model_module_version": "^0.4.3",
       "_view_module_version": "^0.4.3",
       "height": 400,
       "layout": "IPY_MODEL_c25d4d6eaae94eb9be25ad5bf29346ef",
       "width": 400
      }
     },
     "6e88c1c7519b4e45b8625d32b304a448": {
      "model_module": "ipycanvas",
      "model_module_version": "^0.4.3",
      "model_name": "MultiCanvasModel",
      "state": {
       "_canvases": [
        "IPY_MODEL_089e9a1f161846f88850167ebe11a479",
        "IPY_MODEL_fa4edef03b01494286d19504c55b9a6b"
       ],
       "_model_module_version": "^0.4.3",
       "_view_module_version": "^0.4.3",
       "height": 400,
       "layout": "IPY_MODEL_bc47c8d0e2564e45b76c1020e77ebca4",
       "width": 400
      }
     },
     "770f89c890744ccbbf95adeb58ce2fdc": {
      "model_module": "@jupyter-widgets/base",
      "model_module_version": "1.2.0",
      "model_name": "LayoutModel",
      "state": {}
     },
     "7caa02ed101b4482b3254a1da09a92fc": {
      "model_module": "ipycanvas",
      "model_module_version": "^0.4.3",
      "model_name": "CanvasModel",
      "state": {
       "_model_module_version": "^0.4.3",
       "_view_module_version": "^0.4.3",
       "height": 400,
       "layout": "IPY_MODEL_4ced0ac3443b4b1988ea7fd6403089b9",
       "width": 400
      }
     },
     "7f1d3339800744dd94be8914130ab7ec": {
      "model_module": "@jupyter-widgets/base",
      "model_module_version": "1.2.0",
      "model_name": "LayoutModel",
      "state": {}
     },
     "8aa1e8870503451382ed8729a4e59b22": {
      "model_module": "@jupyter-widgets/base",
      "model_module_version": "1.2.0",
      "model_name": "LayoutModel",
      "state": {}
     },
     "8e91d1b9b0f4404a8f79c0c48f6c3341": {
      "model_module": "ipycanvas",
      "model_module_version": "^0.4.3",
      "model_name": "CanvasModel",
      "state": {
       "_model_module_version": "^0.4.3",
       "_view_module_version": "^0.4.3",
       "height": 400,
       "layout": "IPY_MODEL_f61026a777e34518a85a430bfaab9d91",
       "width": 400
      }
     },
     "946d1da0ce8f461297289d34e4e024a2": {
      "model_module": "ipycanvas",
      "model_module_version": "^0.4.3",
      "model_name": "CanvasModel",
      "state": {
       "_model_module_version": "^0.4.3",
       "_view_module_version": "^0.4.3",
       "height": 400,
       "layout": "IPY_MODEL_ac40b1e91182473fb3351954c786b75b",
       "width": 400
      }
     },
     "95850b5f61c64de5836f1702f578ad6b": {
      "model_module": "@jupyter-widgets/base",
      "model_module_version": "1.2.0",
      "model_name": "LayoutModel",
      "state": {}
     },
     "96866bb62a4a4117a06fb808de494c95": {
      "model_module": "@jupyter-widgets/base",
      "model_module_version": "1.2.0",
      "model_name": "LayoutModel",
      "state": {}
     },
     "9772314b38e94655a9162285ba91c95a": {
      "model_module": "ipycanvas",
      "model_module_version": "^0.4.3",
      "model_name": "CanvasModel",
      "state": {
       "_model_module_version": "^0.4.3",
       "_view_module_version": "^0.4.3",
       "height": 400,
       "layout": "IPY_MODEL_c79c96beefb34c52bf789871cf807d2b",
       "width": 400
      }
     },
     "a0ea27179f6f43459b5fb62f601cdb9e": {
      "model_module": "ipycanvas",
      "model_module_version": "^0.4.3",
      "model_name": "CanvasModel",
      "state": {
       "_model_module_version": "^0.4.3",
       "_view_module_version": "^0.4.3",
       "height": 400,
       "layout": "IPY_MODEL_7f1d3339800744dd94be8914130ab7ec",
       "width": 400
      }
     },
     "ac40b1e91182473fb3351954c786b75b": {
      "model_module": "@jupyter-widgets/base",
      "model_module_version": "1.2.0",
      "model_name": "LayoutModel",
      "state": {}
     },
     "b495fbef03764c098b99c23cd357fcf7": {
      "model_module": "@jupyter-widgets/base",
      "model_module_version": "1.2.0",
      "model_name": "LayoutModel",
      "state": {}
     },
     "b584af7902884971b3e19fa4a11a58c4": {
      "model_module": "@jupyter-widgets/base",
      "model_module_version": "1.2.0",
      "model_name": "LayoutModel",
      "state": {}
     },
     "bc47c8d0e2564e45b76c1020e77ebca4": {
      "model_module": "@jupyter-widgets/base",
      "model_module_version": "1.2.0",
      "model_name": "LayoutModel",
      "state": {}
     },
     "bd48dfe9ac024f20b4bdf2ba4882e5b2": {
      "model_module": "@jupyter-widgets/base",
      "model_module_version": "1.2.0",
      "model_name": "LayoutModel",
      "state": {}
     },
     "c25d4d6eaae94eb9be25ad5bf29346ef": {
      "model_module": "@jupyter-widgets/base",
      "model_module_version": "1.2.0",
      "model_name": "LayoutModel",
      "state": {}
     },
     "c70cd5719bd14465bfbfad7956f21ad9": {
      "model_module": "ipycanvas",
      "model_module_version": "^0.4.3",
      "model_name": "CanvasModel",
      "state": {
       "_model_module_version": "^0.4.3",
       "_view_module_version": "^0.4.3",
       "height": 800,
       "layout": "IPY_MODEL_bd48dfe9ac024f20b4bdf2ba4882e5b2",
       "width": 800
      }
     },
     "c79c96beefb34c52bf789871cf807d2b": {
      "model_module": "@jupyter-widgets/base",
      "model_module_version": "1.2.0",
      "model_name": "LayoutModel",
      "state": {}
     },
     "c825c6dad5fa432cbcec6c557e747e27": {
      "model_module": "ipycanvas",
      "model_module_version": "^0.4.3",
      "model_name": "MultiCanvasModel",
      "state": {
       "_canvases": [
        "IPY_MODEL_072878da7bf04bdf8df79cafcaf54a6f",
        "IPY_MODEL_2ad67cafd9b4460092b0cd46e16dcac6"
       ],
       "_model_module_version": "^0.4.3",
       "_view_module_version": "^0.4.3",
       "height": 400,
       "layout": "IPY_MODEL_174acd4be656484398426a14b33a099a",
       "width": 400
      }
     },
     "d756ee293eec4003a2b4596f06c690b3": {
      "model_module": "@jupyter-widgets/base",
      "model_module_version": "1.2.0",
      "model_name": "LayoutModel",
      "state": {}
     },
     "da8106426ae1405c9a629a9286d846f0": {
      "model_module": "ipycanvas",
      "model_module_version": "^0.4.3",
      "model_name": "CanvasModel",
      "state": {
       "_model_module_version": "^0.4.3",
       "_view_module_version": "^0.4.3",
       "height": 800,
       "layout": "IPY_MODEL_27a111d819ea48dab5ed7e794247c4b6",
       "width": 800
      }
     },
     "e0a5f9f1b9a343a2a8d9d687751f884e": {
      "model_module": "ipycanvas",
      "model_module_version": "^0.4.3",
      "model_name": "MultiCanvasModel",
      "state": {
       "_canvases": [
        "IPY_MODEL_c70cd5719bd14465bfbfad7956f21ad9",
        "IPY_MODEL_da8106426ae1405c9a629a9286d846f0"
       ],
       "_model_module_version": "^0.4.3",
       "_view_module_version": "^0.4.3",
       "height": 800,
       "layout": "IPY_MODEL_8aa1e8870503451382ed8729a4e59b22",
       "width": 800
      }
     },
     "e251709ba7d64ad58b16bbfcca88e419": {
      "model_module": "ipycanvas",
      "model_module_version": "^0.4.3",
      "model_name": "MultiCanvasModel",
      "state": {
       "_canvases": [
        "IPY_MODEL_5561e83dcb97435e889f20e2df17441d",
        "IPY_MODEL_3ad0dccfc83c41a8b437c4c2c98f30ae"
       ],
       "_model_module_version": "^0.4.3",
       "_view_module_version": "^0.4.3",
       "height": 400,
       "layout": "IPY_MODEL_ec232bd888474bc8bfec1a5be767f685",
       "width": 400
      }
     },
     "ec232bd888474bc8bfec1a5be767f685": {
      "model_module": "@jupyter-widgets/base",
      "model_module_version": "1.2.0",
      "model_name": "LayoutModel",
      "state": {}
     },
     "ee89a190baa84c2083408cc2029eac21": {
      "model_module": "ipycanvas",
      "model_module_version": "^0.4.3",
      "model_name": "CanvasModel",
      "state": {
       "_model_module_version": "^0.4.3",
       "_view_module_version": "^0.4.3",
       "height": 400,
       "layout": "IPY_MODEL_95850b5f61c64de5836f1702f578ad6b",
       "width": 400
      }
     },
     "f5cac7eebe4e4b42a6f52bc744679ab4": {
      "model_module": "@jupyter-widgets/base",
      "model_module_version": "1.2.0",
      "model_name": "LayoutModel",
      "state": {}
     },
     "f61026a777e34518a85a430bfaab9d91": {
      "model_module": "@jupyter-widgets/base",
      "model_module_version": "1.2.0",
      "model_name": "LayoutModel",
      "state": {}
     },
     "fa4edef03b01494286d19504c55b9a6b": {
      "model_module": "ipycanvas",
      "model_module_version": "^0.4.3",
      "model_name": "CanvasModel",
      "state": {
       "_model_module_version": "^0.4.3",
       "_view_module_version": "^0.4.3",
       "height": 400,
       "layout": "IPY_MODEL_2b9d8f9f5be14b18b77ec2981f926a87",
       "width": 400
      }
     }
    },
    "version_major": 2,
    "version_minor": 0
   }
  }
 },
 "nbformat": 4,
 "nbformat_minor": 4
}
